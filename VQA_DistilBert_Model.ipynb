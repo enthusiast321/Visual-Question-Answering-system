{
  "nbformat": 4,
  "nbformat_minor": 0,
  "metadata": {
    "colab": {
      "provenance": [],
      "machine_shape": "hm"
    },
    "kernelspec": {
      "name": "python3",
      "display_name": "Python 3"
    },
    "language_info": {
      "name": "python"
    },
    "gpuClass": "standard",
    "widgets": {
      "application/vnd.jupyter.widget-state+json": {
        "7ef64a932d33406b8f7d908e40c125ef": {
          "model_module": "@jupyter-widgets/controls",
          "model_name": "HBoxModel",
          "model_module_version": "1.5.0",
          "state": {
            "_dom_classes": [],
            "_model_module": "@jupyter-widgets/controls",
            "_model_module_version": "1.5.0",
            "_model_name": "HBoxModel",
            "_view_count": null,
            "_view_module": "@jupyter-widgets/controls",
            "_view_module_version": "1.5.0",
            "_view_name": "HBoxView",
            "box_style": "",
            "children": [
              "IPY_MODEL_2affd9a2b79048a592046ea7b636ff38",
              "IPY_MODEL_4448b416de1e45ae9b844f2fef507047",
              "IPY_MODEL_53c63df50cf74c879b54e5cd81ded5e0"
            ],
            "layout": "IPY_MODEL_7395925a3ad6457f976b7c77167a9c2d"
          }
        },
        "2affd9a2b79048a592046ea7b636ff38": {
          "model_module": "@jupyter-widgets/controls",
          "model_name": "HTMLModel",
          "model_module_version": "1.5.0",
          "state": {
            "_dom_classes": [],
            "_model_module": "@jupyter-widgets/controls",
            "_model_module_version": "1.5.0",
            "_model_name": "HTMLModel",
            "_view_count": null,
            "_view_module": "@jupyter-widgets/controls",
            "_view_module_version": "1.5.0",
            "_view_name": "HTMLView",
            "description": "",
            "description_tooltip": null,
            "layout": "IPY_MODEL_04fd8ccd10cc466887fbf95aa6ff338d",
            "placeholder": "​",
            "style": "IPY_MODEL_04b6c8e026ff47ac84808051c2d844d1",
            "value": "Downloading: 100%"
          }
        },
        "4448b416de1e45ae9b844f2fef507047": {
          "model_module": "@jupyter-widgets/controls",
          "model_name": "FloatProgressModel",
          "model_module_version": "1.5.0",
          "state": {
            "_dom_classes": [],
            "_model_module": "@jupyter-widgets/controls",
            "_model_module_version": "1.5.0",
            "_model_name": "FloatProgressModel",
            "_view_count": null,
            "_view_module": "@jupyter-widgets/controls",
            "_view_module_version": "1.5.0",
            "_view_name": "ProgressView",
            "bar_style": "success",
            "description": "",
            "description_tooltip": null,
            "layout": "IPY_MODEL_d57fc9f8a02c41529e51d9bf78a49953",
            "max": 231508,
            "min": 0,
            "orientation": "horizontal",
            "style": "IPY_MODEL_e72abbb540414e0698c430261b801e81",
            "value": 231508
          }
        },
        "53c63df50cf74c879b54e5cd81ded5e0": {
          "model_module": "@jupyter-widgets/controls",
          "model_name": "HTMLModel",
          "model_module_version": "1.5.0",
          "state": {
            "_dom_classes": [],
            "_model_module": "@jupyter-widgets/controls",
            "_model_module_version": "1.5.0",
            "_model_name": "HTMLModel",
            "_view_count": null,
            "_view_module": "@jupyter-widgets/controls",
            "_view_module_version": "1.5.0",
            "_view_name": "HTMLView",
            "description": "",
            "description_tooltip": null,
            "layout": "IPY_MODEL_5792237100a143308679cb69f2b1f0c6",
            "placeholder": "​",
            "style": "IPY_MODEL_9334a5e7a6f34bfc9819f8af83bff41a",
            "value": " 232k/232k [00:00&lt;00:00, 264kB/s]"
          }
        },
        "7395925a3ad6457f976b7c77167a9c2d": {
          "model_module": "@jupyter-widgets/base",
          "model_name": "LayoutModel",
          "model_module_version": "1.2.0",
          "state": {
            "_model_module": "@jupyter-widgets/base",
            "_model_module_version": "1.2.0",
            "_model_name": "LayoutModel",
            "_view_count": null,
            "_view_module": "@jupyter-widgets/base",
            "_view_module_version": "1.2.0",
            "_view_name": "LayoutView",
            "align_content": null,
            "align_items": null,
            "align_self": null,
            "border": null,
            "bottom": null,
            "display": null,
            "flex": null,
            "flex_flow": null,
            "grid_area": null,
            "grid_auto_columns": null,
            "grid_auto_flow": null,
            "grid_auto_rows": null,
            "grid_column": null,
            "grid_gap": null,
            "grid_row": null,
            "grid_template_areas": null,
            "grid_template_columns": null,
            "grid_template_rows": null,
            "height": null,
            "justify_content": null,
            "justify_items": null,
            "left": null,
            "margin": null,
            "max_height": null,
            "max_width": null,
            "min_height": null,
            "min_width": null,
            "object_fit": null,
            "object_position": null,
            "order": null,
            "overflow": null,
            "overflow_x": null,
            "overflow_y": null,
            "padding": null,
            "right": null,
            "top": null,
            "visibility": null,
            "width": null
          }
        },
        "04fd8ccd10cc466887fbf95aa6ff338d": {
          "model_module": "@jupyter-widgets/base",
          "model_name": "LayoutModel",
          "model_module_version": "1.2.0",
          "state": {
            "_model_module": "@jupyter-widgets/base",
            "_model_module_version": "1.2.0",
            "_model_name": "LayoutModel",
            "_view_count": null,
            "_view_module": "@jupyter-widgets/base",
            "_view_module_version": "1.2.0",
            "_view_name": "LayoutView",
            "align_content": null,
            "align_items": null,
            "align_self": null,
            "border": null,
            "bottom": null,
            "display": null,
            "flex": null,
            "flex_flow": null,
            "grid_area": null,
            "grid_auto_columns": null,
            "grid_auto_flow": null,
            "grid_auto_rows": null,
            "grid_column": null,
            "grid_gap": null,
            "grid_row": null,
            "grid_template_areas": null,
            "grid_template_columns": null,
            "grid_template_rows": null,
            "height": null,
            "justify_content": null,
            "justify_items": null,
            "left": null,
            "margin": null,
            "max_height": null,
            "max_width": null,
            "min_height": null,
            "min_width": null,
            "object_fit": null,
            "object_position": null,
            "order": null,
            "overflow": null,
            "overflow_x": null,
            "overflow_y": null,
            "padding": null,
            "right": null,
            "top": null,
            "visibility": null,
            "width": null
          }
        },
        "04b6c8e026ff47ac84808051c2d844d1": {
          "model_module": "@jupyter-widgets/controls",
          "model_name": "DescriptionStyleModel",
          "model_module_version": "1.5.0",
          "state": {
            "_model_module": "@jupyter-widgets/controls",
            "_model_module_version": "1.5.0",
            "_model_name": "DescriptionStyleModel",
            "_view_count": null,
            "_view_module": "@jupyter-widgets/base",
            "_view_module_version": "1.2.0",
            "_view_name": "StyleView",
            "description_width": ""
          }
        },
        "d57fc9f8a02c41529e51d9bf78a49953": {
          "model_module": "@jupyter-widgets/base",
          "model_name": "LayoutModel",
          "model_module_version": "1.2.0",
          "state": {
            "_model_module": "@jupyter-widgets/base",
            "_model_module_version": "1.2.0",
            "_model_name": "LayoutModel",
            "_view_count": null,
            "_view_module": "@jupyter-widgets/base",
            "_view_module_version": "1.2.0",
            "_view_name": "LayoutView",
            "align_content": null,
            "align_items": null,
            "align_self": null,
            "border": null,
            "bottom": null,
            "display": null,
            "flex": null,
            "flex_flow": null,
            "grid_area": null,
            "grid_auto_columns": null,
            "grid_auto_flow": null,
            "grid_auto_rows": null,
            "grid_column": null,
            "grid_gap": null,
            "grid_row": null,
            "grid_template_areas": null,
            "grid_template_columns": null,
            "grid_template_rows": null,
            "height": null,
            "justify_content": null,
            "justify_items": null,
            "left": null,
            "margin": null,
            "max_height": null,
            "max_width": null,
            "min_height": null,
            "min_width": null,
            "object_fit": null,
            "object_position": null,
            "order": null,
            "overflow": null,
            "overflow_x": null,
            "overflow_y": null,
            "padding": null,
            "right": null,
            "top": null,
            "visibility": null,
            "width": null
          }
        },
        "e72abbb540414e0698c430261b801e81": {
          "model_module": "@jupyter-widgets/controls",
          "model_name": "ProgressStyleModel",
          "model_module_version": "1.5.0",
          "state": {
            "_model_module": "@jupyter-widgets/controls",
            "_model_module_version": "1.5.0",
            "_model_name": "ProgressStyleModel",
            "_view_count": null,
            "_view_module": "@jupyter-widgets/base",
            "_view_module_version": "1.2.0",
            "_view_name": "StyleView",
            "bar_color": null,
            "description_width": ""
          }
        },
        "5792237100a143308679cb69f2b1f0c6": {
          "model_module": "@jupyter-widgets/base",
          "model_name": "LayoutModel",
          "model_module_version": "1.2.0",
          "state": {
            "_model_module": "@jupyter-widgets/base",
            "_model_module_version": "1.2.0",
            "_model_name": "LayoutModel",
            "_view_count": null,
            "_view_module": "@jupyter-widgets/base",
            "_view_module_version": "1.2.0",
            "_view_name": "LayoutView",
            "align_content": null,
            "align_items": null,
            "align_self": null,
            "border": null,
            "bottom": null,
            "display": null,
            "flex": null,
            "flex_flow": null,
            "grid_area": null,
            "grid_auto_columns": null,
            "grid_auto_flow": null,
            "grid_auto_rows": null,
            "grid_column": null,
            "grid_gap": null,
            "grid_row": null,
            "grid_template_areas": null,
            "grid_template_columns": null,
            "grid_template_rows": null,
            "height": null,
            "justify_content": null,
            "justify_items": null,
            "left": null,
            "margin": null,
            "max_height": null,
            "max_width": null,
            "min_height": null,
            "min_width": null,
            "object_fit": null,
            "object_position": null,
            "order": null,
            "overflow": null,
            "overflow_x": null,
            "overflow_y": null,
            "padding": null,
            "right": null,
            "top": null,
            "visibility": null,
            "width": null
          }
        },
        "9334a5e7a6f34bfc9819f8af83bff41a": {
          "model_module": "@jupyter-widgets/controls",
          "model_name": "DescriptionStyleModel",
          "model_module_version": "1.5.0",
          "state": {
            "_model_module": "@jupyter-widgets/controls",
            "_model_module_version": "1.5.0",
            "_model_name": "DescriptionStyleModel",
            "_view_count": null,
            "_view_module": "@jupyter-widgets/base",
            "_view_module_version": "1.2.0",
            "_view_name": "StyleView",
            "description_width": ""
          }
        },
        "5fdaeb472b7c4976bf2806cd0e76e6cd": {
          "model_module": "@jupyter-widgets/controls",
          "model_name": "HBoxModel",
          "model_module_version": "1.5.0",
          "state": {
            "_dom_classes": [],
            "_model_module": "@jupyter-widgets/controls",
            "_model_module_version": "1.5.0",
            "_model_name": "HBoxModel",
            "_view_count": null,
            "_view_module": "@jupyter-widgets/controls",
            "_view_module_version": "1.5.0",
            "_view_name": "HBoxView",
            "box_style": "",
            "children": [
              "IPY_MODEL_4ed60616191c4bf9899c5bd2f85f1435",
              "IPY_MODEL_f2cf84e6f6aa422585b8e41130442220",
              "IPY_MODEL_4ef50e8181804a07a1c0ad9231ec7bd7"
            ],
            "layout": "IPY_MODEL_cee2be1b2e9b4f34ab700adaf5e28d06"
          }
        },
        "4ed60616191c4bf9899c5bd2f85f1435": {
          "model_module": "@jupyter-widgets/controls",
          "model_name": "HTMLModel",
          "model_module_version": "1.5.0",
          "state": {
            "_dom_classes": [],
            "_model_module": "@jupyter-widgets/controls",
            "_model_module_version": "1.5.0",
            "_model_name": "HTMLModel",
            "_view_count": null,
            "_view_module": "@jupyter-widgets/controls",
            "_view_module_version": "1.5.0",
            "_view_name": "HTMLView",
            "description": "",
            "description_tooltip": null,
            "layout": "IPY_MODEL_4190f6a50d7041d29151c1cc0cda262d",
            "placeholder": "​",
            "style": "IPY_MODEL_9d3b697f8b484f85a654bc96e9d0cf96",
            "value": "Downloading: 100%"
          }
        },
        "f2cf84e6f6aa422585b8e41130442220": {
          "model_module": "@jupyter-widgets/controls",
          "model_name": "FloatProgressModel",
          "model_module_version": "1.5.0",
          "state": {
            "_dom_classes": [],
            "_model_module": "@jupyter-widgets/controls",
            "_model_module_version": "1.5.0",
            "_model_name": "FloatProgressModel",
            "_view_count": null,
            "_view_module": "@jupyter-widgets/controls",
            "_view_module_version": "1.5.0",
            "_view_name": "ProgressView",
            "bar_style": "success",
            "description": "",
            "description_tooltip": null,
            "layout": "IPY_MODEL_6bb301a37ec44f44b5582ca4c5675e29",
            "max": 28,
            "min": 0,
            "orientation": "horizontal",
            "style": "IPY_MODEL_4c8a6ae33b6446f2ab1b3ffad62e8306",
            "value": 28
          }
        },
        "4ef50e8181804a07a1c0ad9231ec7bd7": {
          "model_module": "@jupyter-widgets/controls",
          "model_name": "HTMLModel",
          "model_module_version": "1.5.0",
          "state": {
            "_dom_classes": [],
            "_model_module": "@jupyter-widgets/controls",
            "_model_module_version": "1.5.0",
            "_model_name": "HTMLModel",
            "_view_count": null,
            "_view_module": "@jupyter-widgets/controls",
            "_view_module_version": "1.5.0",
            "_view_name": "HTMLView",
            "description": "",
            "description_tooltip": null,
            "layout": "IPY_MODEL_33970178c43343d2b44cba109d8ccc11",
            "placeholder": "​",
            "style": "IPY_MODEL_3698d8936cae4f1997a78c5658d67e2a",
            "value": " 28.0/28.0 [00:00&lt;00:00, 1.69kB/s]"
          }
        },
        "cee2be1b2e9b4f34ab700adaf5e28d06": {
          "model_module": "@jupyter-widgets/base",
          "model_name": "LayoutModel",
          "model_module_version": "1.2.0",
          "state": {
            "_model_module": "@jupyter-widgets/base",
            "_model_module_version": "1.2.0",
            "_model_name": "LayoutModel",
            "_view_count": null,
            "_view_module": "@jupyter-widgets/base",
            "_view_module_version": "1.2.0",
            "_view_name": "LayoutView",
            "align_content": null,
            "align_items": null,
            "align_self": null,
            "border": null,
            "bottom": null,
            "display": null,
            "flex": null,
            "flex_flow": null,
            "grid_area": null,
            "grid_auto_columns": null,
            "grid_auto_flow": null,
            "grid_auto_rows": null,
            "grid_column": null,
            "grid_gap": null,
            "grid_row": null,
            "grid_template_areas": null,
            "grid_template_columns": null,
            "grid_template_rows": null,
            "height": null,
            "justify_content": null,
            "justify_items": null,
            "left": null,
            "margin": null,
            "max_height": null,
            "max_width": null,
            "min_height": null,
            "min_width": null,
            "object_fit": null,
            "object_position": null,
            "order": null,
            "overflow": null,
            "overflow_x": null,
            "overflow_y": null,
            "padding": null,
            "right": null,
            "top": null,
            "visibility": null,
            "width": null
          }
        },
        "4190f6a50d7041d29151c1cc0cda262d": {
          "model_module": "@jupyter-widgets/base",
          "model_name": "LayoutModel",
          "model_module_version": "1.2.0",
          "state": {
            "_model_module": "@jupyter-widgets/base",
            "_model_module_version": "1.2.0",
            "_model_name": "LayoutModel",
            "_view_count": null,
            "_view_module": "@jupyter-widgets/base",
            "_view_module_version": "1.2.0",
            "_view_name": "LayoutView",
            "align_content": null,
            "align_items": null,
            "align_self": null,
            "border": null,
            "bottom": null,
            "display": null,
            "flex": null,
            "flex_flow": null,
            "grid_area": null,
            "grid_auto_columns": null,
            "grid_auto_flow": null,
            "grid_auto_rows": null,
            "grid_column": null,
            "grid_gap": null,
            "grid_row": null,
            "grid_template_areas": null,
            "grid_template_columns": null,
            "grid_template_rows": null,
            "height": null,
            "justify_content": null,
            "justify_items": null,
            "left": null,
            "margin": null,
            "max_height": null,
            "max_width": null,
            "min_height": null,
            "min_width": null,
            "object_fit": null,
            "object_position": null,
            "order": null,
            "overflow": null,
            "overflow_x": null,
            "overflow_y": null,
            "padding": null,
            "right": null,
            "top": null,
            "visibility": null,
            "width": null
          }
        },
        "9d3b697f8b484f85a654bc96e9d0cf96": {
          "model_module": "@jupyter-widgets/controls",
          "model_name": "DescriptionStyleModel",
          "model_module_version": "1.5.0",
          "state": {
            "_model_module": "@jupyter-widgets/controls",
            "_model_module_version": "1.5.0",
            "_model_name": "DescriptionStyleModel",
            "_view_count": null,
            "_view_module": "@jupyter-widgets/base",
            "_view_module_version": "1.2.0",
            "_view_name": "StyleView",
            "description_width": ""
          }
        },
        "6bb301a37ec44f44b5582ca4c5675e29": {
          "model_module": "@jupyter-widgets/base",
          "model_name": "LayoutModel",
          "model_module_version": "1.2.0",
          "state": {
            "_model_module": "@jupyter-widgets/base",
            "_model_module_version": "1.2.0",
            "_model_name": "LayoutModel",
            "_view_count": null,
            "_view_module": "@jupyter-widgets/base",
            "_view_module_version": "1.2.0",
            "_view_name": "LayoutView",
            "align_content": null,
            "align_items": null,
            "align_self": null,
            "border": null,
            "bottom": null,
            "display": null,
            "flex": null,
            "flex_flow": null,
            "grid_area": null,
            "grid_auto_columns": null,
            "grid_auto_flow": null,
            "grid_auto_rows": null,
            "grid_column": null,
            "grid_gap": null,
            "grid_row": null,
            "grid_template_areas": null,
            "grid_template_columns": null,
            "grid_template_rows": null,
            "height": null,
            "justify_content": null,
            "justify_items": null,
            "left": null,
            "margin": null,
            "max_height": null,
            "max_width": null,
            "min_height": null,
            "min_width": null,
            "object_fit": null,
            "object_position": null,
            "order": null,
            "overflow": null,
            "overflow_x": null,
            "overflow_y": null,
            "padding": null,
            "right": null,
            "top": null,
            "visibility": null,
            "width": null
          }
        },
        "4c8a6ae33b6446f2ab1b3ffad62e8306": {
          "model_module": "@jupyter-widgets/controls",
          "model_name": "ProgressStyleModel",
          "model_module_version": "1.5.0",
          "state": {
            "_model_module": "@jupyter-widgets/controls",
            "_model_module_version": "1.5.0",
            "_model_name": "ProgressStyleModel",
            "_view_count": null,
            "_view_module": "@jupyter-widgets/base",
            "_view_module_version": "1.2.0",
            "_view_name": "StyleView",
            "bar_color": null,
            "description_width": ""
          }
        },
        "33970178c43343d2b44cba109d8ccc11": {
          "model_module": "@jupyter-widgets/base",
          "model_name": "LayoutModel",
          "model_module_version": "1.2.0",
          "state": {
            "_model_module": "@jupyter-widgets/base",
            "_model_module_version": "1.2.0",
            "_model_name": "LayoutModel",
            "_view_count": null,
            "_view_module": "@jupyter-widgets/base",
            "_view_module_version": "1.2.0",
            "_view_name": "LayoutView",
            "align_content": null,
            "align_items": null,
            "align_self": null,
            "border": null,
            "bottom": null,
            "display": null,
            "flex": null,
            "flex_flow": null,
            "grid_area": null,
            "grid_auto_columns": null,
            "grid_auto_flow": null,
            "grid_auto_rows": null,
            "grid_column": null,
            "grid_gap": null,
            "grid_row": null,
            "grid_template_areas": null,
            "grid_template_columns": null,
            "grid_template_rows": null,
            "height": null,
            "justify_content": null,
            "justify_items": null,
            "left": null,
            "margin": null,
            "max_height": null,
            "max_width": null,
            "min_height": null,
            "min_width": null,
            "object_fit": null,
            "object_position": null,
            "order": null,
            "overflow": null,
            "overflow_x": null,
            "overflow_y": null,
            "padding": null,
            "right": null,
            "top": null,
            "visibility": null,
            "width": null
          }
        },
        "3698d8936cae4f1997a78c5658d67e2a": {
          "model_module": "@jupyter-widgets/controls",
          "model_name": "DescriptionStyleModel",
          "model_module_version": "1.5.0",
          "state": {
            "_model_module": "@jupyter-widgets/controls",
            "_model_module_version": "1.5.0",
            "_model_name": "DescriptionStyleModel",
            "_view_count": null,
            "_view_module": "@jupyter-widgets/base",
            "_view_module_version": "1.2.0",
            "_view_name": "StyleView",
            "description_width": ""
          }
        },
        "9d31b9395c0b4658a050349149082dc4": {
          "model_module": "@jupyter-widgets/controls",
          "model_name": "HBoxModel",
          "model_module_version": "1.5.0",
          "state": {
            "_dom_classes": [],
            "_model_module": "@jupyter-widgets/controls",
            "_model_module_version": "1.5.0",
            "_model_name": "HBoxModel",
            "_view_count": null,
            "_view_module": "@jupyter-widgets/controls",
            "_view_module_version": "1.5.0",
            "_view_name": "HBoxView",
            "box_style": "",
            "children": [
              "IPY_MODEL_0602bb3d8bb34f0aa75ecd62f15180b1",
              "IPY_MODEL_6593c417aadf4245b96c008826ce1b21",
              "IPY_MODEL_959d189a2eeb439c8be8455200c1eff4"
            ],
            "layout": "IPY_MODEL_5bad9c9777174d27a1ccfd601e8683bf"
          }
        },
        "0602bb3d8bb34f0aa75ecd62f15180b1": {
          "model_module": "@jupyter-widgets/controls",
          "model_name": "HTMLModel",
          "model_module_version": "1.5.0",
          "state": {
            "_dom_classes": [],
            "_model_module": "@jupyter-widgets/controls",
            "_model_module_version": "1.5.0",
            "_model_name": "HTMLModel",
            "_view_count": null,
            "_view_module": "@jupyter-widgets/controls",
            "_view_module_version": "1.5.0",
            "_view_name": "HTMLView",
            "description": "",
            "description_tooltip": null,
            "layout": "IPY_MODEL_1db88dbd37de48a3851e1527c3562fb3",
            "placeholder": "​",
            "style": "IPY_MODEL_bea8ee09c27d4fda8daa6c7bda704098",
            "value": "Downloading: 100%"
          }
        },
        "6593c417aadf4245b96c008826ce1b21": {
          "model_module": "@jupyter-widgets/controls",
          "model_name": "FloatProgressModel",
          "model_module_version": "1.5.0",
          "state": {
            "_dom_classes": [],
            "_model_module": "@jupyter-widgets/controls",
            "_model_module_version": "1.5.0",
            "_model_name": "FloatProgressModel",
            "_view_count": null,
            "_view_module": "@jupyter-widgets/controls",
            "_view_module_version": "1.5.0",
            "_view_name": "ProgressView",
            "bar_style": "success",
            "description": "",
            "description_tooltip": null,
            "layout": "IPY_MODEL_dfd6ba4b1237452b85aa8f7324cd7e66",
            "max": 483,
            "min": 0,
            "orientation": "horizontal",
            "style": "IPY_MODEL_0be70345bcec4b2c8e59e17c8008f4c4",
            "value": 483
          }
        },
        "959d189a2eeb439c8be8455200c1eff4": {
          "model_module": "@jupyter-widgets/controls",
          "model_name": "HTMLModel",
          "model_module_version": "1.5.0",
          "state": {
            "_dom_classes": [],
            "_model_module": "@jupyter-widgets/controls",
            "_model_module_version": "1.5.0",
            "_model_name": "HTMLModel",
            "_view_count": null,
            "_view_module": "@jupyter-widgets/controls",
            "_view_module_version": "1.5.0",
            "_view_name": "HTMLView",
            "description": "",
            "description_tooltip": null,
            "layout": "IPY_MODEL_d1b9b909ffad4281ab533bd1ad326d15",
            "placeholder": "​",
            "style": "IPY_MODEL_e4954ad261bf4eba8f0326dddcc79a77",
            "value": " 483/483 [00:00&lt;00:00, 30.3kB/s]"
          }
        },
        "5bad9c9777174d27a1ccfd601e8683bf": {
          "model_module": "@jupyter-widgets/base",
          "model_name": "LayoutModel",
          "model_module_version": "1.2.0",
          "state": {
            "_model_module": "@jupyter-widgets/base",
            "_model_module_version": "1.2.0",
            "_model_name": "LayoutModel",
            "_view_count": null,
            "_view_module": "@jupyter-widgets/base",
            "_view_module_version": "1.2.0",
            "_view_name": "LayoutView",
            "align_content": null,
            "align_items": null,
            "align_self": null,
            "border": null,
            "bottom": null,
            "display": null,
            "flex": null,
            "flex_flow": null,
            "grid_area": null,
            "grid_auto_columns": null,
            "grid_auto_flow": null,
            "grid_auto_rows": null,
            "grid_column": null,
            "grid_gap": null,
            "grid_row": null,
            "grid_template_areas": null,
            "grid_template_columns": null,
            "grid_template_rows": null,
            "height": null,
            "justify_content": null,
            "justify_items": null,
            "left": null,
            "margin": null,
            "max_height": null,
            "max_width": null,
            "min_height": null,
            "min_width": null,
            "object_fit": null,
            "object_position": null,
            "order": null,
            "overflow": null,
            "overflow_x": null,
            "overflow_y": null,
            "padding": null,
            "right": null,
            "top": null,
            "visibility": null,
            "width": null
          }
        },
        "1db88dbd37de48a3851e1527c3562fb3": {
          "model_module": "@jupyter-widgets/base",
          "model_name": "LayoutModel",
          "model_module_version": "1.2.0",
          "state": {
            "_model_module": "@jupyter-widgets/base",
            "_model_module_version": "1.2.0",
            "_model_name": "LayoutModel",
            "_view_count": null,
            "_view_module": "@jupyter-widgets/base",
            "_view_module_version": "1.2.0",
            "_view_name": "LayoutView",
            "align_content": null,
            "align_items": null,
            "align_self": null,
            "border": null,
            "bottom": null,
            "display": null,
            "flex": null,
            "flex_flow": null,
            "grid_area": null,
            "grid_auto_columns": null,
            "grid_auto_flow": null,
            "grid_auto_rows": null,
            "grid_column": null,
            "grid_gap": null,
            "grid_row": null,
            "grid_template_areas": null,
            "grid_template_columns": null,
            "grid_template_rows": null,
            "height": null,
            "justify_content": null,
            "justify_items": null,
            "left": null,
            "margin": null,
            "max_height": null,
            "max_width": null,
            "min_height": null,
            "min_width": null,
            "object_fit": null,
            "object_position": null,
            "order": null,
            "overflow": null,
            "overflow_x": null,
            "overflow_y": null,
            "padding": null,
            "right": null,
            "top": null,
            "visibility": null,
            "width": null
          }
        },
        "bea8ee09c27d4fda8daa6c7bda704098": {
          "model_module": "@jupyter-widgets/controls",
          "model_name": "DescriptionStyleModel",
          "model_module_version": "1.5.0",
          "state": {
            "_model_module": "@jupyter-widgets/controls",
            "_model_module_version": "1.5.0",
            "_model_name": "DescriptionStyleModel",
            "_view_count": null,
            "_view_module": "@jupyter-widgets/base",
            "_view_module_version": "1.2.0",
            "_view_name": "StyleView",
            "description_width": ""
          }
        },
        "dfd6ba4b1237452b85aa8f7324cd7e66": {
          "model_module": "@jupyter-widgets/base",
          "model_name": "LayoutModel",
          "model_module_version": "1.2.0",
          "state": {
            "_model_module": "@jupyter-widgets/base",
            "_model_module_version": "1.2.0",
            "_model_name": "LayoutModel",
            "_view_count": null,
            "_view_module": "@jupyter-widgets/base",
            "_view_module_version": "1.2.0",
            "_view_name": "LayoutView",
            "align_content": null,
            "align_items": null,
            "align_self": null,
            "border": null,
            "bottom": null,
            "display": null,
            "flex": null,
            "flex_flow": null,
            "grid_area": null,
            "grid_auto_columns": null,
            "grid_auto_flow": null,
            "grid_auto_rows": null,
            "grid_column": null,
            "grid_gap": null,
            "grid_row": null,
            "grid_template_areas": null,
            "grid_template_columns": null,
            "grid_template_rows": null,
            "height": null,
            "justify_content": null,
            "justify_items": null,
            "left": null,
            "margin": null,
            "max_height": null,
            "max_width": null,
            "min_height": null,
            "min_width": null,
            "object_fit": null,
            "object_position": null,
            "order": null,
            "overflow": null,
            "overflow_x": null,
            "overflow_y": null,
            "padding": null,
            "right": null,
            "top": null,
            "visibility": null,
            "width": null
          }
        },
        "0be70345bcec4b2c8e59e17c8008f4c4": {
          "model_module": "@jupyter-widgets/controls",
          "model_name": "ProgressStyleModel",
          "model_module_version": "1.5.0",
          "state": {
            "_model_module": "@jupyter-widgets/controls",
            "_model_module_version": "1.5.0",
            "_model_name": "ProgressStyleModel",
            "_view_count": null,
            "_view_module": "@jupyter-widgets/base",
            "_view_module_version": "1.2.0",
            "_view_name": "StyleView",
            "bar_color": null,
            "description_width": ""
          }
        },
        "d1b9b909ffad4281ab533bd1ad326d15": {
          "model_module": "@jupyter-widgets/base",
          "model_name": "LayoutModel",
          "model_module_version": "1.2.0",
          "state": {
            "_model_module": "@jupyter-widgets/base",
            "_model_module_version": "1.2.0",
            "_model_name": "LayoutModel",
            "_view_count": null,
            "_view_module": "@jupyter-widgets/base",
            "_view_module_version": "1.2.0",
            "_view_name": "LayoutView",
            "align_content": null,
            "align_items": null,
            "align_self": null,
            "border": null,
            "bottom": null,
            "display": null,
            "flex": null,
            "flex_flow": null,
            "grid_area": null,
            "grid_auto_columns": null,
            "grid_auto_flow": null,
            "grid_auto_rows": null,
            "grid_column": null,
            "grid_gap": null,
            "grid_row": null,
            "grid_template_areas": null,
            "grid_template_columns": null,
            "grid_template_rows": null,
            "height": null,
            "justify_content": null,
            "justify_items": null,
            "left": null,
            "margin": null,
            "max_height": null,
            "max_width": null,
            "min_height": null,
            "min_width": null,
            "object_fit": null,
            "object_position": null,
            "order": null,
            "overflow": null,
            "overflow_x": null,
            "overflow_y": null,
            "padding": null,
            "right": null,
            "top": null,
            "visibility": null,
            "width": null
          }
        },
        "e4954ad261bf4eba8f0326dddcc79a77": {
          "model_module": "@jupyter-widgets/controls",
          "model_name": "DescriptionStyleModel",
          "model_module_version": "1.5.0",
          "state": {
            "_model_module": "@jupyter-widgets/controls",
            "_model_module_version": "1.5.0",
            "_model_name": "DescriptionStyleModel",
            "_view_count": null,
            "_view_module": "@jupyter-widgets/base",
            "_view_module_version": "1.2.0",
            "_view_name": "StyleView",
            "description_width": ""
          }
        },
        "72ad8f68c0824dccb95a8d60c161458b": {
          "model_module": "@jupyter-widgets/controls",
          "model_name": "HBoxModel",
          "model_module_version": "1.5.0",
          "state": {
            "_dom_classes": [],
            "_model_module": "@jupyter-widgets/controls",
            "_model_module_version": "1.5.0",
            "_model_name": "HBoxModel",
            "_view_count": null,
            "_view_module": "@jupyter-widgets/controls",
            "_view_module_version": "1.5.0",
            "_view_name": "HBoxView",
            "box_style": "",
            "children": [
              "IPY_MODEL_898deeddbddc4b95ad321fc5940fec43",
              "IPY_MODEL_25b200d028484557be97458604017fb3",
              "IPY_MODEL_a2b013492a3e40d4af229765a6bb96bf"
            ],
            "layout": "IPY_MODEL_962e0748468840d9aafa2a5bb090c902"
          }
        },
        "898deeddbddc4b95ad321fc5940fec43": {
          "model_module": "@jupyter-widgets/controls",
          "model_name": "HTMLModel",
          "model_module_version": "1.5.0",
          "state": {
            "_dom_classes": [],
            "_model_module": "@jupyter-widgets/controls",
            "_model_module_version": "1.5.0",
            "_model_name": "HTMLModel",
            "_view_count": null,
            "_view_module": "@jupyter-widgets/controls",
            "_view_module_version": "1.5.0",
            "_view_name": "HTMLView",
            "description": "",
            "description_tooltip": null,
            "layout": "IPY_MODEL_c34f96f7acbe47c3a478884357034e39",
            "placeholder": "​",
            "style": "IPY_MODEL_90ed62afd3f940fdae8466baa03ff5fb",
            "value": "Downloading: 100%"
          }
        },
        "25b200d028484557be97458604017fb3": {
          "model_module": "@jupyter-widgets/controls",
          "model_name": "FloatProgressModel",
          "model_module_version": "1.5.0",
          "state": {
            "_dom_classes": [],
            "_model_module": "@jupyter-widgets/controls",
            "_model_module_version": "1.5.0",
            "_model_name": "FloatProgressModel",
            "_view_count": null,
            "_view_module": "@jupyter-widgets/controls",
            "_view_module_version": "1.5.0",
            "_view_name": "ProgressView",
            "bar_style": "success",
            "description": "",
            "description_tooltip": null,
            "layout": "IPY_MODEL_9acf331273a644078d9056bc2f494339",
            "max": 363423424,
            "min": 0,
            "orientation": "horizontal",
            "style": "IPY_MODEL_63a0396c02234432853825901edcb562",
            "value": 363423424
          }
        },
        "a2b013492a3e40d4af229765a6bb96bf": {
          "model_module": "@jupyter-widgets/controls",
          "model_name": "HTMLModel",
          "model_module_version": "1.5.0",
          "state": {
            "_dom_classes": [],
            "_model_module": "@jupyter-widgets/controls",
            "_model_module_version": "1.5.0",
            "_model_name": "HTMLModel",
            "_view_count": null,
            "_view_module": "@jupyter-widgets/controls",
            "_view_module_version": "1.5.0",
            "_view_name": "HTMLView",
            "description": "",
            "description_tooltip": null,
            "layout": "IPY_MODEL_d4a0106ea9f748adadae4c0e26e862e0",
            "placeholder": "​",
            "style": "IPY_MODEL_f864b568c090438da50adfdda92e7659",
            "value": " 363M/363M [00:05&lt;00:00, 63.1MB/s]"
          }
        },
        "962e0748468840d9aafa2a5bb090c902": {
          "model_module": "@jupyter-widgets/base",
          "model_name": "LayoutModel",
          "model_module_version": "1.2.0",
          "state": {
            "_model_module": "@jupyter-widgets/base",
            "_model_module_version": "1.2.0",
            "_model_name": "LayoutModel",
            "_view_count": null,
            "_view_module": "@jupyter-widgets/base",
            "_view_module_version": "1.2.0",
            "_view_name": "LayoutView",
            "align_content": null,
            "align_items": null,
            "align_self": null,
            "border": null,
            "bottom": null,
            "display": null,
            "flex": null,
            "flex_flow": null,
            "grid_area": null,
            "grid_auto_columns": null,
            "grid_auto_flow": null,
            "grid_auto_rows": null,
            "grid_column": null,
            "grid_gap": null,
            "grid_row": null,
            "grid_template_areas": null,
            "grid_template_columns": null,
            "grid_template_rows": null,
            "height": null,
            "justify_content": null,
            "justify_items": null,
            "left": null,
            "margin": null,
            "max_height": null,
            "max_width": null,
            "min_height": null,
            "min_width": null,
            "object_fit": null,
            "object_position": null,
            "order": null,
            "overflow": null,
            "overflow_x": null,
            "overflow_y": null,
            "padding": null,
            "right": null,
            "top": null,
            "visibility": null,
            "width": null
          }
        },
        "c34f96f7acbe47c3a478884357034e39": {
          "model_module": "@jupyter-widgets/base",
          "model_name": "LayoutModel",
          "model_module_version": "1.2.0",
          "state": {
            "_model_module": "@jupyter-widgets/base",
            "_model_module_version": "1.2.0",
            "_model_name": "LayoutModel",
            "_view_count": null,
            "_view_module": "@jupyter-widgets/base",
            "_view_module_version": "1.2.0",
            "_view_name": "LayoutView",
            "align_content": null,
            "align_items": null,
            "align_self": null,
            "border": null,
            "bottom": null,
            "display": null,
            "flex": null,
            "flex_flow": null,
            "grid_area": null,
            "grid_auto_columns": null,
            "grid_auto_flow": null,
            "grid_auto_rows": null,
            "grid_column": null,
            "grid_gap": null,
            "grid_row": null,
            "grid_template_areas": null,
            "grid_template_columns": null,
            "grid_template_rows": null,
            "height": null,
            "justify_content": null,
            "justify_items": null,
            "left": null,
            "margin": null,
            "max_height": null,
            "max_width": null,
            "min_height": null,
            "min_width": null,
            "object_fit": null,
            "object_position": null,
            "order": null,
            "overflow": null,
            "overflow_x": null,
            "overflow_y": null,
            "padding": null,
            "right": null,
            "top": null,
            "visibility": null,
            "width": null
          }
        },
        "90ed62afd3f940fdae8466baa03ff5fb": {
          "model_module": "@jupyter-widgets/controls",
          "model_name": "DescriptionStyleModel",
          "model_module_version": "1.5.0",
          "state": {
            "_model_module": "@jupyter-widgets/controls",
            "_model_module_version": "1.5.0",
            "_model_name": "DescriptionStyleModel",
            "_view_count": null,
            "_view_module": "@jupyter-widgets/base",
            "_view_module_version": "1.2.0",
            "_view_name": "StyleView",
            "description_width": ""
          }
        },
        "9acf331273a644078d9056bc2f494339": {
          "model_module": "@jupyter-widgets/base",
          "model_name": "LayoutModel",
          "model_module_version": "1.2.0",
          "state": {
            "_model_module": "@jupyter-widgets/base",
            "_model_module_version": "1.2.0",
            "_model_name": "LayoutModel",
            "_view_count": null,
            "_view_module": "@jupyter-widgets/base",
            "_view_module_version": "1.2.0",
            "_view_name": "LayoutView",
            "align_content": null,
            "align_items": null,
            "align_self": null,
            "border": null,
            "bottom": null,
            "display": null,
            "flex": null,
            "flex_flow": null,
            "grid_area": null,
            "grid_auto_columns": null,
            "grid_auto_flow": null,
            "grid_auto_rows": null,
            "grid_column": null,
            "grid_gap": null,
            "grid_row": null,
            "grid_template_areas": null,
            "grid_template_columns": null,
            "grid_template_rows": null,
            "height": null,
            "justify_content": null,
            "justify_items": null,
            "left": null,
            "margin": null,
            "max_height": null,
            "max_width": null,
            "min_height": null,
            "min_width": null,
            "object_fit": null,
            "object_position": null,
            "order": null,
            "overflow": null,
            "overflow_x": null,
            "overflow_y": null,
            "padding": null,
            "right": null,
            "top": null,
            "visibility": null,
            "width": null
          }
        },
        "63a0396c02234432853825901edcb562": {
          "model_module": "@jupyter-widgets/controls",
          "model_name": "ProgressStyleModel",
          "model_module_version": "1.5.0",
          "state": {
            "_model_module": "@jupyter-widgets/controls",
            "_model_module_version": "1.5.0",
            "_model_name": "ProgressStyleModel",
            "_view_count": null,
            "_view_module": "@jupyter-widgets/base",
            "_view_module_version": "1.2.0",
            "_view_name": "StyleView",
            "bar_color": null,
            "description_width": ""
          }
        },
        "d4a0106ea9f748adadae4c0e26e862e0": {
          "model_module": "@jupyter-widgets/base",
          "model_name": "LayoutModel",
          "model_module_version": "1.2.0",
          "state": {
            "_model_module": "@jupyter-widgets/base",
            "_model_module_version": "1.2.0",
            "_model_name": "LayoutModel",
            "_view_count": null,
            "_view_module": "@jupyter-widgets/base",
            "_view_module_version": "1.2.0",
            "_view_name": "LayoutView",
            "align_content": null,
            "align_items": null,
            "align_self": null,
            "border": null,
            "bottom": null,
            "display": null,
            "flex": null,
            "flex_flow": null,
            "grid_area": null,
            "grid_auto_columns": null,
            "grid_auto_flow": null,
            "grid_auto_rows": null,
            "grid_column": null,
            "grid_gap": null,
            "grid_row": null,
            "grid_template_areas": null,
            "grid_template_columns": null,
            "grid_template_rows": null,
            "height": null,
            "justify_content": null,
            "justify_items": null,
            "left": null,
            "margin": null,
            "max_height": null,
            "max_width": null,
            "min_height": null,
            "min_width": null,
            "object_fit": null,
            "object_position": null,
            "order": null,
            "overflow": null,
            "overflow_x": null,
            "overflow_y": null,
            "padding": null,
            "right": null,
            "top": null,
            "visibility": null,
            "width": null
          }
        },
        "f864b568c090438da50adfdda92e7659": {
          "model_module": "@jupyter-widgets/controls",
          "model_name": "DescriptionStyleModel",
          "model_module_version": "1.5.0",
          "state": {
            "_model_module": "@jupyter-widgets/controls",
            "_model_module_version": "1.5.0",
            "_model_name": "DescriptionStyleModel",
            "_view_count": null,
            "_view_module": "@jupyter-widgets/base",
            "_view_module_version": "1.2.0",
            "_view_name": "StyleView",
            "description_width": ""
          }
        }
      }
    },
    "accelerator": "GPU"
  },
  "cells": [
    {
      "cell_type": "code",
      "execution_count": null,
      "metadata": {
        "id": "4UCqOrWzs1tg"
      },
      "outputs": [],
      "source": [
        "#importing necessary libraries\n",
        "import pandas as pd\n",
        "from tqdm import tqdm\n",
        "import numpy as np\n",
        "import matplotlib.pyplot as plt\n",
        "import seaborn as sns \n",
        "import warnings\n",
        "warnings.filterwarnings('ignore')\n",
        "from os import listdir\n",
        "import json\n",
        "import re\n",
        "import joblib\n",
        "import tensorflow as tf\n",
        "import os\n",
        "from tensorflow.keras import backend as K\n",
        "K.set_image_data_format('channels_first')\n",
        "from collections import defaultdict\n",
        "from operator import itemgetter\n",
        "import operator\n",
        "from tensorflow.keras import utils\n",
        "from tensorflow.keras.applications import VGG16, VGG19\n",
        "from tensorflow.keras.preprocessing import image, text, sequence\n",
        "from tensorflow.keras.layers import Dense,Input,LSTM,Bidirectional,Activation,Conv1D,GRU, add, Conv2D, Reshape\n",
        "from tensorflow.keras.applications.vgg19 import preprocess_input\n",
        "import pickle\n",
        "from sklearn import preprocessing\n",
        "from sklearn.model_selection import StratifiedShuffleSplit\n",
        "import datetime\n",
        "from tensorflow.keras.layers import Dropout,Embedding,GlobalMaxPooling1D, MaxPooling1D, Add, Flatten\n",
        "from tensorflow.keras.layers import GlobalAveragePooling1D, GlobalMaxPooling1D, concatenate, SpatialDropout1D, multiply\n",
        "from tensorflow.keras.models import Model\n",
        "from PIL import Image\n",
        "import matplotlib.pyplot as plt"
      ]
    },
    {
      "cell_type": "code",
      "source": [
        "physical_devices = tf.config.list_physical_devices('GPU')\n",
        "try:\n",
        "  tf.config.experimental.set_memory_growth(physical_devices[0], True)\n",
        "except:\n",
        "  # Invalid device or cannot modify virtual devices once initialized.\n",
        "  pass"
      ],
      "metadata": {
        "id": "aEw_4xXs8CC5"
      },
      "execution_count": null,
      "outputs": []
    },
    {
      "cell_type": "code",
      "source": [
        "from google.colab import drive\n",
        "drive.mount('/content/drive')"
      ],
      "metadata": {
        "colab": {
          "base_uri": "https://localhost:8080/"
        },
        "id": "IY2-5fiHw7U6",
        "outputId": "43e92737-83f7-454a-e3ae-a2a3a72aeaf9"
      },
      "execution_count": null,
      "outputs": [
        {
          "output_type": "stream",
          "name": "stdout",
          "text": [
            "Mounted at /content/drive\n"
          ]
        }
      ]
    },
    {
      "cell_type": "code",
      "source": [
        "#Downloading train and validation data and unzipping it\n",
        "def download_vqa_data():\n",
        "    Questions_Train_mscoco = tf.keras.utils.get_file('v2_Questions_Train_mscoco.zip',\n",
        "                                      cache_subdir=os.path.abspath('/content/data'),\n",
        "                                      origin = 'https://s3.amazonaws.com/cvmlp/vqa/mscoco/vqa/v2_Questions_Train_mscoco.zip',\n",
        "                                        extract = True)\n",
        "\n",
        "    Questions_Val_mscoco = tf.keras.utils.get_file('v2_Questions_Val_mscoco.zip',\n",
        "                                        cache_subdir=os.path.abspath('/content/data'),\n",
        "                                        origin = 'https://s3.amazonaws.com/cvmlp/vqa/mscoco/vqa/v2_Questions_Val_mscoco.zip',\n",
        "                                        extract = True)\n",
        "\n",
        "    Annotations_Train_mscoco = tf.keras.utils.get_file('v2_Annotations_Train_mscoco.zip',\n",
        "                                        cache_subdir=os.path.abspath('/content/data'),\n",
        "                                        origin = 'https://s3.amazonaws.com/cvmlp/vqa/mscoco/vqa/v2_Annotations_Train_mscoco.zip',\n",
        "                                        extract = True)\n",
        "\n",
        "    Annotations_Val_mscoco = tf.keras.utils.get_file('v2_Annotations_Val_mscoco.zip',\n",
        "                                        cache_subdir=os.path.abspath('/content/data'),\n",
        "                                        origin = 'https://s3.amazonaws.com/cvmlp/vqa/mscoco/vqa/v2_Annotations_Val_mscoco.zip',\n",
        "                                        extract = True)\n",
        "    os.remove(Questions_Train_mscoco)\n",
        "    os.remove(Questions_Val_mscoco)\n",
        "    os.remove(Annotations_Train_mscoco)\n",
        "    os.remove(Annotations_Val_mscoco)"
      ],
      "metadata": {
        "id": "QODM0Qj2s6BY"
      },
      "execution_count": null,
      "outputs": []
    },
    {
      "cell_type": "code",
      "source": [
        "download_vqa_data()"
      ],
      "metadata": {
        "colab": {
          "base_uri": "https://localhost:8080/"
        },
        "id": "Ttt8qyL9to5K",
        "outputId": "0b274b81-bfc3-4efc-dbc6-395f78bd7f4b"
      },
      "execution_count": null,
      "outputs": [
        {
          "output_type": "stream",
          "name": "stdout",
          "text": [
            "Downloading data from https://s3.amazonaws.com/cvmlp/vqa/mscoco/vqa/v2_Questions_Train_mscoco.zip\n",
            "7239401/7239401 [==============================] - 2s 0us/step\n",
            "Downloading data from https://s3.amazonaws.com/cvmlp/vqa/mscoco/vqa/v2_Questions_Val_mscoco.zip\n",
            "3494929/3494929 [==============================] - 1s 0us/step\n",
            "Downloading data from https://s3.amazonaws.com/cvmlp/vqa/mscoco/vqa/v2_Annotations_Train_mscoco.zip\n",
            "21708861/21708861 [==============================] - 3s 0us/step\n",
            "Downloading data from https://s3.amazonaws.com/cvmlp/vqa/mscoco/vqa/v2_Annotations_Val_mscoco.zip\n",
            "10518930/10518930 [==============================] - 2s 0us/step\n"
          ]
        }
      ]
    },
    {
      "cell_type": "code",
      "source": [
        "def getAllAnswer(answers_list):\n",
        "\tanswers = []\n",
        "\tfor i in range(len(answers_list)):\n",
        "\t\tanswers.append(answers_list[i]['answer'])\n",
        "\treturn ';'.join(answers)     "
      ],
      "metadata": {
        "id": "F4l4QWUB09rE"
      },
      "execution_count": null,
      "outputs": []
    },
    {
      "cell_type": "code",
      "source": [
        "def process_question_annotation(subset):\n",
        "    anno = json.load(open(f'/content/data/v2_mscoco_{subset}_annotations.json', 'r'))\n",
        "    ques = json.load(open(f'/content/data/v2_OpenEnded_mscoco_{subset}_questions.json', 'r'))\n",
        "    imdir='%s/COCO_%s_%012d.jpg' ## COCO_train2014_000000291417.jpg\n",
        "    data = []\n",
        "\n",
        "    for i in tqdm(range(len(anno['annotations']))):\n",
        "        image_path = imdir%(subset, subset, anno['annotations'][i]['image_id'])\n",
        "        question = ques['questions'][i]['question']\n",
        "        answer = anno['annotations'][i]['multiple_choice_answer']\n",
        "        \n",
        "        answer_list = getAllAnswer(anno['annotations'][i]['answers'])\n",
        "\n",
        "        data.append({'img_path': image_path, 'question': question, 'answer': answer, 'answer_list': answer_list})\n",
        "    \n",
        "    # save to disk\n",
        "    json.dump(data, open(f'/content/drive/MyDrive/VQA/processed_files/vqa_raw_{subset}.json', 'w'))"
      ],
      "metadata": {
        "id": "xzvKRvExubsp"
      },
      "execution_count": null,
      "outputs": []
    },
    {
      "cell_type": "code",
      "source": [
        "subset = ['train2014', 'val2014']\n",
        "for x in subset:\n",
        "    process_question_annotation(x)"
      ],
      "metadata": {
        "colab": {
          "base_uri": "https://localhost:8080/"
        },
        "id": "E26sJZwLxbfS",
        "outputId": "ef8d006b-1026-4e37-f080-17f852e59b89"
      },
      "execution_count": null,
      "outputs": [
        {
          "output_type": "stream",
          "name": "stderr",
          "text": [
            "100%|██████████| 443757/443757 [00:01<00:00, 302287.93it/s]\n",
            "100%|██████████| 214354/214354 [00:01<00:00, 154822.36it/s]\n"
          ]
        }
      ]
    },
    {
      "cell_type": "code",
      "source": [
        "train_data = json.load(open(f'/content/drive/MyDrive/VQA/processed_files/vqa_raw_train2014.json', 'r'))\n",
        "val_data = json.load(open(f'/content/drive/MyDrive/VQA/processed_files/vqa_raw_val2014.json', 'r'))"
      ],
      "metadata": {
        "id": "ott_ppbNxoAR"
      },
      "execution_count": null,
      "outputs": []
    },
    {
      "cell_type": "code",
      "source": [
        "answer_freq= defaultdict(int)\n",
        "for answer in list(map(itemgetter('answer'), train_data)):\n",
        "\t\tanswer_freq[answer] += 1\n",
        "print('There are total ', len(answer_freq), ' different types of answers.')"
      ],
      "metadata": {
        "colab": {
          "base_uri": "https://localhost:8080/"
        },
        "id": "9XdhqAb9x4Aq",
        "outputId": "6758c3d7-438a-46a5-9124-45259ea9a920"
      },
      "execution_count": null,
      "outputs": [
        {
          "output_type": "stream",
          "name": "stdout",
          "text": [
            "There are total  22531  different types of answers.\n"
          ]
        }
      ]
    },
    {
      "cell_type": "code",
      "source": [
        "max_answers = 2 "
      ],
      "metadata": {
        "id": "CeBWZPtHyDRa"
      },
      "execution_count": null,
      "outputs": []
    },
    {
      "cell_type": "code",
      "source": [
        "def selectTopAnswersData(questions_list, answer_list, answers_list, images_list, k):\n",
        "\tanswer_freq= defaultdict(int)\n",
        "\n",
        "\tfor answer in answer_list:\n",
        "\t\tanswer_freq[answer] += 1\n",
        "\n",
        "\tsorted_freq = sorted(answer_freq.items(), key=operator.itemgetter(1), reverse=True)[0: k]\n",
        "\ttop_answers, top_freq = zip(*sorted_freq)\n",
        " \n",
        "\tnew_questions_list=[]\n",
        "\tnew_answer_list=[]\n",
        "\tnew_answers_list=[]\n",
        "\tnew_images_list=[]\n",
        "\n",
        "\tfor question, answer, answers, image in zip(questions_list, answer_list, answers_list, images_list):\n",
        "\t\tif answer in top_answers:\n",
        "\t\t\tnew_questions_list.append(question)\n",
        "\t\t\tnew_answer_list.append(answer)\n",
        "\t\t\tnew_answers_list.append(answers)\n",
        "\t\t\tnew_images_list.append(image)\n",
        "\t\n",
        "\tprint('Data size reduced by', np.round(((len(questions_list)-len(new_questions_list))/len(questions_list))*100, 2),'%')\n",
        "\treturn(new_questions_list, new_answer_list, new_answers_list, new_images_list, top_answers)"
      ],
      "metadata": {
        "id": "IKSYddZ-yFlK"
      },
      "execution_count": null,
      "outputs": []
    },
    {
      "cell_type": "code",
      "source": [
        "questions_train, answer_train, answers_train, images_train, top_answers = selectTopAnswersData(list(map(itemgetter('question'), train_data)), \n",
        "                                                                                               list(map(itemgetter('answer'), train_data)), \n",
        "                                                                                               list(map(itemgetter('answer_list'), train_data)), \n",
        "                                                                                               list(map(itemgetter('img_path'), train_data)), max_answers)"
      ],
      "metadata": {
        "colab": {
          "base_uri": "https://localhost:8080/"
        },
        "id": "fwjzZmAEySna",
        "outputId": "d4d6bf0f-7acc-46d4-fa07-10448bb7ab06"
      },
      "execution_count": null,
      "outputs": [
        {
          "output_type": "stream",
          "name": "stdout",
          "text": [
            "Data size reduced by 62.26 %\n"
          ]
        }
      ]
    },
    {
      "cell_type": "code",
      "source": [
        "def filterTopAnswersData(questions_list, answer_list, answers_list, images_list, top_answers):\n",
        "\tnew_questions_list=[]\n",
        "\tnew_answer_list=[]\n",
        "\tnew_answers_list=[]\n",
        "\tnew_images_list=[]\n",
        "\n",
        "\tfor question, answer, answers, image in zip(questions_list, answer_list, answers_list, images_list):\n",
        "\t\tif answer in top_answers:\n",
        "\t\t\tnew_questions_list.append(question)\n",
        "\t\t\tnew_answer_list.append(answer)\n",
        "\t\t\tnew_answers_list.append(answers)\n",
        "\t\t\tnew_images_list.append(image)\n",
        "\t\n",
        "\tprint('Data size reduced by', np.round(((len(questions_list)-len(new_questions_list))/len(questions_list))*100, 2),'%')\n",
        "\treturn (new_questions_list, new_answer_list, new_answers_list, new_images_list)"
      ],
      "metadata": {
        "id": "KH45cw2EyXih"
      },
      "execution_count": null,
      "outputs": []
    },
    {
      "cell_type": "code",
      "source": [
        "questions_val, answer_val, answers_val, images_val = filterTopAnswersData(list(map(itemgetter('question'), val_data)), \n",
        "                                                                          list(map(itemgetter('answer'), val_data)),\n",
        "                                                                          list(map(itemgetter('answer_list'), val_data)), \n",
        "                                                                          list(map(itemgetter('img_path'), val_data)), top_answers)"
      ],
      "metadata": {
        "colab": {
          "base_uri": "https://localhost:8080/"
        },
        "id": "JW6tJqcFyZz5",
        "outputId": "4a8d5c05-efb5-4e6f-da4f-1eaafa458062"
      },
      "execution_count": null,
      "outputs": [
        {
          "output_type": "stream",
          "name": "stdout",
          "text": [
            "Data size reduced by 62.3 %\n"
          ]
        }
      ]
    },
    {
      "cell_type": "code",
      "source": [
        "with open('/content/drive/MyDrive/VQA/processed_files/vqa_raw_train2014_top1000.json', 'wb') as f:\n",
        "    joblib.dump((questions_train, answer_train, answers_train, images_train), f)\n",
        "with open('/content/drive/MyDrive/VQA/processed_files/vqa_raw_val2014_top1000.json', 'wb') as f:\n",
        "    joblib.dump((questions_val, answer_val, answers_val, images_val), f)    "
      ],
      "metadata": {
        "id": "LYx8nNGxyeUU"
      },
      "execution_count": null,
      "outputs": []
    },
    {
      "cell_type": "code",
      "source": [
        "with open('/content/drive/MyDrive/VQA/processed_files/vqa_raw_train2014_top1000.json', 'rb') as f:\n",
        "  questions_train, answer_train, answers_train, images_train = joblib.load(f)\n",
        "\n",
        "with open('/content/drive/MyDrive/VQA/processed_files/vqa_raw_val2014_top1000.json', 'rb') as f:\n",
        "  questions_val, answer_val, answers_val, images_val = joblib.load(f)"
      ],
      "metadata": {
        "id": "ZIwblRpvy5MJ"
      },
      "execution_count": null,
      "outputs": []
    },
    {
      "cell_type": "code",
      "source": [
        "image_folder = '/train2014/'\n",
        "if not os.path.exists(os.path.abspath('.') + image_folder):\n",
        "    image_zip = tf.keras.utils.get_file('train2014.zip',\n",
        "                                      cache_subdir=os.path.abspath('.'),\n",
        "                                      origin = 'http://images.cocodataset.org/zips/train2014.zip',\n",
        "                                      extract = True)\n",
        "    os.remove(image_zip)"
      ],
      "metadata": {
        "colab": {
          "base_uri": "https://localhost:8080/"
        },
        "id": "1hA8pV86zEz5",
        "outputId": "b7ae5913-b38a-407c-e479-fb09be818160"
      },
      "execution_count": null,
      "outputs": [
        {
          "output_type": "stream",
          "name": "stdout",
          "text": [
            "Downloading data from http://images.cocodataset.org/zips/train2014.zip\n",
            "13510573713/13510573713 [==============================] - 896s 0us/step\n"
          ]
        }
      ]
    },
    {
      "cell_type": "code",
      "source": [
        "val_folder = '/val2014/'\n",
        "if not os.path.exists(os.path.abspath('.') + val_folder):\n",
        "    val_zip = tf.keras.utils.get_file('val2014.zip',\n",
        "                                      cache_subdir=os.path.abspath('.'),\n",
        "                                      origin = 'http://images.cocodataset.org/zips/val2014.zip',\n",
        "                                      extract = True)\n",
        "    os.remove(val_zip)"
      ],
      "metadata": {
        "colab": {
          "base_uri": "https://localhost:8080/"
        },
        "id": "VMwI_U63agRB",
        "outputId": "3943c2ab-319d-4422-8d85-7e00295f8bec"
      },
      "execution_count": null,
      "outputs": [
        {
          "output_type": "stream",
          "name": "stdout",
          "text": [
            "Downloading data from http://images.cocodataset.org/zips/val2014.zip\n",
            "6645013297/6645013297 [==============================] - 412s 0us/step\n"
          ]
        }
      ]
    },
    {
      "cell_type": "code",
      "source": [
        "def image_feature_extractor(target_path, image_list, BATCH_SIZE):\n",
        "    model = VGG19(weights=\"imagenet\", include_top=False, input_tensor=Input(shape=(3, 224, 224)))\n",
        "\n",
        "      # add a progress bar\n",
        "    #progbar = utils.Progbar(int(np.ceil(len(image_list) / float(BATCH_SIZE))))\n",
        "\n",
        "      # loop over the images in batches\n",
        "    for (b, i) in tqdm(enumerate(range(0, len(image_list), BATCH_SIZE))):\n",
        "      # extract batch of images and prepare them to pass it through the VGG \n",
        "      # network for feature extraction\n",
        "      #progbar.update(b+1)\n",
        "      \n",
        "      batch_range = range(i, min(i + BATCH_SIZE, len(image_list)))\n",
        "      batchPaths = image_list[batch_range[0]: batch_range[-1]+1]\n",
        "\n",
        "      batchImages = []\n",
        "      batchIds = []\n",
        "      # loop over the images and labels in the current batch\n",
        "      for imagePath in batchPaths:\n",
        "\n",
        "              # load the input image using the Keras helper utility\n",
        "              # while ensuring the image is resized to 224x224 pixels\n",
        "        img = image.load_img('train2014/'+imagePath, target_size=(224, 224))\n",
        "        img = image.img_to_array(img)\n",
        "      \n",
        "              # preprocess the image by \n",
        "              # (1) expanding the dimensions to include batch dim and\n",
        "              # (2) subtracting the mean RGB pixel intensity from the ImageNet dataset\n",
        "        img = np.expand_dims(img, axis=0)\n",
        "        img = preprocess_input(img)\n",
        "      \n",
        "              # add the image to the batch\n",
        "        batchImages.append(img)\n",
        "        # image ids of the batch\n",
        "        batchIds.append(imagePath.split('.')[0][-6:])\n",
        "      \n",
        "      batchImages = np.vstack(batchImages) # (BATCH_SIZE, 3, 224, 224)\n",
        "\n",
        "      # pass the images through the network and use the outputs as our actual features\n",
        "      features = model.predict(batchImages) # (BATCH_SIZE, 512, 7, 7)\n",
        "      features = tf.reshape(features, (features.shape[0], features.shape[1], -1)) # (BATCH_SIZE, 512, 49)\n",
        "      features = tf.transpose(features, perm =[0,2,1])  # (BATCH_SIZE, 49, 512)\n",
        "\n",
        "      # loop over the batch to save them locally\n",
        "      for id, feat in zip(batchIds, features):\n",
        "        np.save(os.path.join(target_path, id), feat)     "
      ],
      "metadata": {
        "id": "G1ynjiz6zITy"
      },
      "execution_count": null,
      "outputs": []
    },
    {
      "cell_type": "code",
      "source": [
        "image_list = os.listdir('train2014')\n",
        "BATCH_SIZE = 300\n",
        "target_path = 'features'"
      ],
      "metadata": {
        "id": "WPoUUMJP1dmC"
      },
      "execution_count": null,
      "outputs": []
    },
    {
      "cell_type": "code",
      "source": [
        "image_feature_extractor(target_path, image_list, BATCH_SIZE)"
      ],
      "metadata": {
        "id": "U30hgkO81fZp"
      },
      "execution_count": null,
      "outputs": []
    },
    {
      "cell_type": "code",
      "source": [
        "import string\n",
        "    \n",
        "# Storing the sets of punctuation in variable result \n",
        "result = string.punctuation \n",
        "print(list(result))"
      ],
      "metadata": {
        "id": "Swl6tLLV2QBK",
        "colab": {
          "base_uri": "https://localhost:8080/"
        },
        "outputId": "e2a2932f-2b93-409f-8c68-566070f526c6"
      },
      "execution_count": null,
      "outputs": [
        {
          "output_type": "stream",
          "name": "stdout",
          "text": [
            "['!', '\"', '#', '$', '%', '&', \"'\", '(', ')', '*', '+', ',', '-', '.', '/', ':', ';', '<', '=', '>', '?', '@', '[', '\\\\', ']', '^', '_', '`', '{', '|', '}', '~']\n"
          ]
        }
      ]
    },
    {
      "cell_type": "code",
      "source": [
        "import re\n",
        "\n",
        "def process_sentence(sentence):\n",
        "    periodStrip  = re.compile(\"(?!<=\\d)(\\.)(?!\\d)\")\n",
        "    commaStrip   = re.compile(\"(\\d)(\\,)(\\d)\")\n",
        "    punct        = ['!', '\"', '#', '$', '%', '&', \"'\", '(', ')', '*', '+', ',', \n",
        "                    '-', '.', '/', ':', ';', '<', '=', '>', '?', '@', '[', '\\\\', ']', \n",
        "                    '^', '_', '`', '{', '|', '}', '~']\n",
        "    contractions = {\"aint\": \"ain't\", \"arent\": \"aren't\", \"cant\": \"can't\", \"couldve\": \"could've\", \"couldnt\": \"couldn't\", \\\n",
        "                    \"couldn'tve\": \"couldn't've\", \"couldnt've\": \"couldn't've\", \"didnt\": \"didn't\", \"doesnt\": \"doesn't\", \"dont\": \"don't\", \"hadnt\": \"hadn't\", \\\n",
        "                    \"hadnt've\": \"hadn't've\", \"hadn'tve\": \"hadn't've\", \"hasnt\": \"hasn't\", \"havent\": \"haven't\", \"hed\": \"he'd\", \"hed've\": \"he'd've\", \\\n",
        "                    \"he'dve\": \"he'd've\", \"hes\": \"he's\", \"howd\": \"how'd\", \"howll\": \"how'll\", \"hows\": \"how's\", \"Id've\": \"I'd've\", \"I'dve\": \"I'd've\", \\\n",
        "                    \"Im\": \"I'm\", \"Ive\": \"I've\", \"isnt\": \"isn't\", \"itd\": \"it'd\", \"itd've\": \"it'd've\", \"it'dve\": \"it'd've\", \"itll\": \"it'll\", \"let's\": \"let's\", \\\n",
        "                    \"maam\": \"ma'am\", \"mightnt\": \"mightn't\", \"mightnt've\": \"mightn't've\", \"mightn'tve\": \"mightn't've\", \"mightve\": \"might've\", \\\n",
        "                    \"mustnt\": \"mustn't\", \"mustve\": \"must've\", \"neednt\": \"needn't\", \"notve\": \"not've\", \"oclock\": \"o'clock\", \"oughtnt\": \"oughtn't\", \\\n",
        "                    \"ow's'at\": \"'ow's'at\", \"'ows'at\": \"'ow's'at\", \"'ow'sat\": \"'ow's'at\", \"shant\": \"shan't\", \"shed've\": \"she'd've\", \"she'dve\": \"she'd've\", \\\n",
        "                    \"she's\": \"she's\", \"shouldve\": \"should've\", \"shouldnt\": \"shouldn't\", \"shouldnt've\": \"shouldn't've\", \"shouldn'tve\": \"shouldn't've\", \\\n",
        "                    \"somebody'd\": \"somebodyd\", \"somebodyd've\": \"somebody'd've\", \"somebody'dve\": \"somebody'd've\", \"somebodyll\": \"somebody'll\", \\\n",
        "                    \"somebodys\": \"somebody's\", \"someoned\": \"someone'd\", \"someoned've\": \"someone'd've\", \"someone'dve\": \"someone'd've\", \\\n",
        "                    \"someonell\": \"someone'll\", \"someones\": \"someone's\", \"somethingd\": \"something'd\", \"somethingd've\": \"something'd've\", \\\n",
        "                    \"something'dve\": \"something'd've\", \"somethingll\": \"something'll\", \"thats\": \"that's\", \"thered\": \"there'd\", \"thered've\": \"there'd've\", \\\n",
        "                    \"there'dve\": \"there'd've\", \"therere\": \"there're\", \"theres\": \"there's\", \"theyd\": \"they'd\", \"theyd've\": \"they'd've\", \\\n",
        "                    \"they'dve\": \"they'd've\", \"theyll\": \"they'll\", \"theyre\": \"they're\", \"theyve\": \"they've\", \"twas\": \"'twas\", \"wasnt\": \"wasn't\", \\\n",
        "                    \"wed've\": \"we'd've\", \"we'dve\": \"we'd've\", \"weve\": \"we've\", \"werent\": \"weren't\", \"whatll\": \"what'll\", \"whatre\": \"what're\", \\\n",
        "                    \"whats\": \"what's\", \"whatve\": \"what've\", \"whens\": \"when's\", \"whered\": \"where'd\", \"wheres\": \"where's\", \"whereve\": \"where've\", \\\n",
        "                    \"whod\": \"who'd\", \"whod've\": \"who'd've\", \"who'dve\": \"who'd've\", \"wholl\": \"who'll\", \"whos\": \"who's\", \"whove\": \"who've\", \"whyll\": \"why'll\", \\\n",
        "                    \"whyre\": \"why're\", \"whys\": \"why's\", \"wont\": \"won't\", \"wouldve\": \"would've\", \"wouldnt\": \"wouldn't\", \"wouldnt've\": \"wouldn't've\", \\\n",
        "                    \"wouldn'tve\": \"wouldn't've\", \"yall\": \"y'all\", \"yall'll\": \"y'all'll\", \"y'allll\": \"y'all'll\", \"yall'd've\": \"y'all'd've\", \\\n",
        "                    \"y'alld've\": \"y'all'd've\", \"y'all'dve\": \"y'all'd've\", \"youd\": \"you'd\", \"youd've\": \"you'd've\", \"you'dve\": \"you'd've\", \\\n",
        "                    \"youll\": \"you'll\", \"youre\": \"you're\", \"youve\": \"you've\"}\n",
        "\n",
        "    inText = sentence.replace('\\n', ' ')\n",
        "    inText = inText.replace('\\t', ' ')\n",
        "    inText = inText.strip()\n",
        "    outText = inText\n",
        "    for p in punct:\n",
        "        if (p + ' ' in inText or ' ' + p in inText) or \\\n",
        "           (re.search(commaStrip, inText) != None):\n",
        "            outText = outText.replace(p, '')\n",
        "        else:\n",
        "            outText = outText.replace(p, ' ')\n",
        "    outText = periodStrip.sub(\"\", outText, re.UNICODE)\n",
        "    outText = outText.lower().split()\n",
        "    for wordId, word in enumerate(outText):\n",
        "        if word in contractions:\n",
        "            outText[wordId] = contractions[word]\n",
        "    outText = ' '.join(outText)\n",
        "    return outText"
      ],
      "metadata": {
        "id": "Tdc8dCb22JmS"
      },
      "execution_count": null,
      "outputs": []
    },
    {
      "cell_type": "code",
      "source": [
        "questions_train_processed = pd.Series(questions_train).apply(process_sentence)\n",
        "questions_val_processed = pd.Series(questions_val).apply(process_sentence)"
      ],
      "metadata": {
        "id": "l78mjm2m4IFc"
      },
      "execution_count": null,
      "outputs": []
    },
    {
      "cell_type": "code",
      "source": [
        "with open('/content/drive/MyDrive/VQA/processed_files/processed_questions.pkl', 'wb') as f:\n",
        "    joblib.dump((questions_train_processed, questions_val_processed), f)"
      ],
      "metadata": {
        "id": "MOYQDdgf4mZa"
      },
      "execution_count": null,
      "outputs": []
    },
    {
      "cell_type": "code",
      "source": [
        "with open('/content/drive/MyDrive/VQA/processed_files/processed_questions.pkl', 'rb') as f:\n",
        "    questions_train_processed, questions_val_processed = joblib.load(f)"
      ],
      "metadata": {
        "id": "3Er9tSho4O3C"
      },
      "execution_count": null,
      "outputs": []
    },
    {
      "cell_type": "code",
      "source": [
        "tok=text.Tokenizer(filters='')\n",
        "tok.fit_on_texts(questions_train_processed)"
      ],
      "metadata": {
        "id": "T8hkPumO6-Gz"
      },
      "execution_count": null,
      "outputs": []
    },
    {
      "cell_type": "code",
      "source": [
        "with open('/content/drive/MyDrive/VQA/processed_files/text_tokenizer.pkl', 'wb') as f:\n",
        "    joblib.dump(tok, f)"
      ],
      "metadata": {
        "id": "XjzCBJhN7FjL"
      },
      "execution_count": null,
      "outputs": []
    },
    {
      "cell_type": "code",
      "source": [
        "with open('/content/drive/MyDrive/VQA/processed_files/text_tokenizer.pkl', 'rb') as f:\n",
        "    tok = joblib.load(f)"
      ],
      "metadata": {
        "id": "has1eDBM9s3K"
      },
      "execution_count": null,
      "outputs": []
    },
    {
      "cell_type": "code",
      "source": [
        "question_data_train = tok.texts_to_sequences(questions_train_processed)\n",
        "question_data_val = tok.texts_to_sequences(questions_val_processed)"
      ],
      "metadata": {
        "id": "dz_3KM5390fa"
      },
      "execution_count": null,
      "outputs": []
    },
    {
      "cell_type": "code",
      "source": [
        "for i in range(0,11):\n",
        "    print(10*i,'percentile value is', np.percentile(question_len,10*i))"
      ],
      "metadata": {
        "colab": {
          "base_uri": "https://localhost:8080/"
        },
        "id": "lVOKyjdl-eQT",
        "outputId": "4a487130-2930-4b3b-d26d-4a32bd46c0ff"
      },
      "execution_count": null,
      "outputs": [
        {
          "output_type": "stream",
          "name": "stdout",
          "text": [
            "0 percentile value is 2.0\n",
            "10 percentile value is 4.0\n",
            "20 percentile value is 4.0\n",
            "30 percentile value is 5.0\n",
            "40 percentile value is 5.0\n",
            "50 percentile value is 6.0\n",
            "60 percentile value is 6.0\n",
            "70 percentile value is 7.0\n",
            "80 percentile value is 7.0\n",
            "90 percentile value is 8.0\n",
            "100 percentile value is 22.0\n"
          ]
        }
      ]
    },
    {
      "cell_type": "code",
      "source": [
        "for i in range(0,11):\n",
        "    print(90+i,'percentile value is',np.percentile(question_len,90+i))\n",
        "     "
      ],
      "metadata": {
        "colab": {
          "base_uri": "https://localhost:8080/"
        },
        "id": "_RMBg7M2-sYK",
        "outputId": "40b6584a-8a05-4cb9-887a-89044a19df8a"
      },
      "execution_count": null,
      "outputs": [
        {
          "output_type": "stream",
          "name": "stdout",
          "text": [
            "90 percentile value is 8.0\n",
            "91 percentile value is 8.0\n",
            "92 percentile value is 9.0\n",
            "93 percentile value is 9.0\n",
            "94 percentile value is 9.0\n",
            "95 percentile value is 9.0\n",
            "96 percentile value is 10.0\n",
            "97 percentile value is 10.0\n",
            "98 percentile value is 11.0\n",
            "99 percentile value is 12.0\n",
            "100 percentile value is 22.0\n"
          ]
        }
      ]
    },
    {
      "cell_type": "code",
      "source": [
        "MAX_LEN = 22"
      ],
      "metadata": {
        "id": "QNKLO81V-u28"
      },
      "execution_count": null,
      "outputs": []
    },
    {
      "cell_type": "code",
      "source": [
        "question_data_train=sequence.pad_sequences(question_data_train, maxlen=MAX_LEN, padding='post')\n",
        "question_data_val=sequence.pad_sequences(question_data_val, maxlen=MAX_LEN, padding = 'post')"
      ],
      "metadata": {
        "id": "i3AATwNL-wTz"
      },
      "execution_count": null,
      "outputs": []
    },
    {
      "cell_type": "code",
      "source": [
        "with open('/content/drive/MyDrive/VQA/processed_files/tokenised_data_post.pkl', mode='wb') as f:\n",
        "    pickle.dump((question_data_train, question_data_val), f)"
      ],
      "metadata": {
        "id": "tBSy1P04-9nr"
      },
      "execution_count": null,
      "outputs": []
    },
    {
      "cell_type": "code",
      "source": [
        "with open('/content/drive/MyDrive/VQA/processed_files/tokenised_data_post.pkl', mode='rb') as f:\n",
        "    question_data_train, question_data_val = pickle.load(f)"
      ],
      "metadata": {
        "id": "89TED_aS_PzM"
      },
      "execution_count": null,
      "outputs": []
    },
    {
      "cell_type": "code",
      "source": [
        "labelencoder = preprocessing.LabelEncoder()\n",
        "labelencoder.fit(answer_train)"
      ],
      "metadata": {
        "colab": {
          "base_uri": "https://localhost:8080/"
        },
        "id": "hvbFhFAL_WVr",
        "outputId": "7e3acc28-2dcd-4551-a6d0-ddd3581a9806"
      },
      "execution_count": null,
      "outputs": [
        {
          "output_type": "execute_result",
          "data": {
            "text/plain": [
              "LabelEncoder()"
            ]
          },
          "metadata": {},
          "execution_count": 8
        }
      ]
    },
    {
      "cell_type": "code",
      "source": [
        "#only 2 classes -'yes','no'\n",
        "len(labelencoder.classes_)"
      ],
      "metadata": {
        "colab": {
          "base_uri": "https://localhost:8080/"
        },
        "id": "KkBdtKzX_mUj",
        "outputId": "eefc81b2-ede6-4813-c05f-60ef6abc0502"
      },
      "execution_count": null,
      "outputs": [
        {
          "output_type": "execute_result",
          "data": {
            "text/plain": [
              "2"
            ]
          },
          "metadata": {},
          "execution_count": 9
        }
      ]
    },
    {
      "cell_type": "code",
      "source": [
        "with open('/content/drive/MyDrive/VQA/processed_files/labelencoder.pkl', 'wb') as f:\n",
        "    joblib.dump(labelencoder, f)  "
      ],
      "metadata": {
        "id": "hN-LH1MB_qN0"
      },
      "execution_count": null,
      "outputs": []
    },
    {
      "cell_type": "code",
      "source": [
        "with open('/content/drive/MyDrive/VQA/processed_files/labelencoder.pkl', 'rb') as f:\n",
        "    labelencoder = joblib.load(f)"
      ],
      "metadata": {
        "id": "xRZJo5H0_xre"
      },
      "execution_count": null,
      "outputs": []
    },
    {
      "cell_type": "code",
      "source": [
        "def get_answers_matrix(answers, encoder):\n",
        "\ty = encoder.transform(answers) #string to numerical class\n",
        "\tnb_classes = encoder.classes_.shape[0]\n",
        "\tY = utils.to_categorical(y, nb_classes)\n",
        "\treturn Y     "
      ],
      "metadata": {
        "id": "7FmQdvbV_9uW"
      },
      "execution_count": null,
      "outputs": []
    },
    {
      "cell_type": "markdown",
      "source": [
        "#Train-validation split"
      ],
      "metadata": {
        "id": "-2ZkdcKtMSBf"
      }
    },
    {
      "cell_type": "code",
      "source": [
        "sss = StratifiedShuffleSplit(n_splits=1, test_size= 0.25,random_state=42)\n",
        "\n",
        "for train_index, val_index in sss.split(images_train, answer_train):\n",
        "  TRAIN_INDEX = train_index\n",
        "  VAL_INDEX = val_index    "
      ],
      "metadata": {
        "id": "bkn2zQYDHg9P"
      },
      "execution_count": null,
      "outputs": []
    },
    {
      "cell_type": "code",
      "source": [
        "image_list_tr, image_list_vl = np.array(images_train)[TRAIN_INDEX.astype(int)], np.array(images_train)[VAL_INDEX.astype(int)]"
      ],
      "metadata": {
        "id": "N38dTkDWMF58"
      },
      "execution_count": null,
      "outputs": []
    },
    {
      "cell_type": "code",
      "source": [
        "question_tr, question_vl = question_data_train[TRAIN_INDEX], question_data_train[VAL_INDEX]"
      ],
      "metadata": {
        "id": "IbNsXTINMHzc"
      },
      "execution_count": null,
      "outputs": []
    },
    {
      "cell_type": "code",
      "source": [
        "answer_matrix = get_answers_matrix(answer_train, labelencoder)\n",
        "answer_tr, answer_vl = answer_matrix[TRAIN_INDEX], answer_matrix[VAL_INDEX]"
      ],
      "metadata": {
        "id": "C1I-WQQXMJXc"
      },
      "execution_count": null,
      "outputs": []
    },
    {
      "cell_type": "code",
      "source": [
        "print(image_list_tr)"
      ],
      "metadata": {
        "colab": {
          "base_uri": "https://localhost:8080/"
        },
        "id": "R1Wo29KwsQJt",
        "outputId": "9ba5e1d5-fc64-4b88-9003-5e6a0c3882fb"
      },
      "execution_count": null,
      "outputs": [
        {
          "output_type": "stream",
          "name": "stdout",
          "text": [
            "['train2014/COCO_train2014_000000376407.jpg'\n",
            " 'train2014/COCO_train2014_000000481354.jpg'\n",
            " 'train2014/COCO_train2014_000000363848.jpg' ...\n",
            " 'train2014/COCO_train2014_000000484341.jpg'\n",
            " 'train2014/COCO_train2014_000000173367.jpg'\n",
            " 'train2014/COCO_train2014_000000548644.jpg']\n"
          ]
        }
      ]
    },
    {
      "cell_type": "markdown",
      "source": [
        "#Dataset"
      ],
      "metadata": {
        "id": "O-iR6660MOEb"
      }
    },
    {
      "cell_type": "code",
      "source": [
        "BATCH_SIZE = 300\n",
        "BUFFER_SIZE = 5000"
      ],
      "metadata": {
        "id": "ail6G_B0MQNs"
      },
      "execution_count": null,
      "outputs": []
    },
    {
      "cell_type": "code",
      "source": [
        "#Images are converted to numpy arrays\n",
        "def map_func(img_name, ques):\n",
        "    img_tensor = np.load('/content/features/' + img_name.decode('utf-8').split('.')[0][-6:] + '.npy')\n",
        "    return img_tensor, ques"
      ],
      "metadata": {
        "id": "gYJXfpxW7g4E"
      },
      "execution_count": null,
      "outputs": []
    },
    {
      "cell_type": "code",
      "source": [
        "train_dataset = tf.data.Dataset.from_tensor_slices((image_list_tr, question_tr))\n",
        "\n",
        "# Use map to load the numpy files in parallel\n",
        "train_dataset = train_dataset.map(lambda item1, item2: tf.numpy_function(\n",
        "          map_func, [item1, item2], [tf.float32, tf.int32]),\n",
        "          num_parallel_calls=tf.data.experimental.AUTOTUNE)\n",
        "op_train_dataset = tf.data.Dataset.from_tensor_slices(answer_tr)\n",
        "train_dataset   = tf.data.Dataset.zip((train_dataset,op_train_dataset))\n",
        "train_dataset = train_dataset.batch(1000)\n",
        "train_dataset = train_dataset.prefetch(buffer_size=tf.data.experimental.AUTOTUNE)"
      ],
      "metadata": {
        "id": "G4NuYQAc7hZM"
      },
      "execution_count": null,
      "outputs": []
    },
    {
      "cell_type": "code",
      "source": [
        "test_dataset = tf.data.Dataset.from_tensor_slices((image_list_vl, question_vl))\n",
        "# Use map to load the numpy files in parallel\n",
        "test_dataset = test_dataset.map(lambda item1, item2: tf.numpy_function(\n",
        "          map_func, [item1, item2], [tf.float32, tf.int32]),\n",
        "          num_parallel_calls=tf.data.experimental.AUTOTUNE)\n",
        "op_test_dataset = tf.data.Dataset.from_tensor_slices(answer_vl)\n",
        "test_dataset=tf.data.Dataset.zip((test_dataset,op_test_dataset))\n",
        "test_dataset = test_dataset.batch(1000)\n",
        "test_dataset = test_dataset.prefetch(buffer_size=tf.data.experimental.AUTOTUNE)"
      ],
      "metadata": {
        "id": "jBnFjwQ37j-q"
      },
      "execution_count": null,
      "outputs": []
    },
    {
      "cell_type": "code",
      "source": [
        "max_answers = 2\n",
        "max_seq_len = 22\n",
        "vocab_size  = len(tok.word_index) + 1"
      ],
      "metadata": {
        "id": "nmbvi94Tr8Fl"
      },
      "execution_count": null,
      "outputs": []
    },
    {
      "cell_type": "markdown",
      "source": [
        "#Baseline Model"
      ],
      "metadata": {
        "id": "dF0mswcVeaX9"
      }
    },
    {
      "cell_type": "code",
      "source": [
        "tf.keras.backend.clear_session()"
      ],
      "metadata": {
        "id": "Z4e8_nH0bJTP"
      },
      "execution_count": null,
      "outputs": []
    },
    {
      "cell_type": "code",
      "source": [
        "base_input1 = Input(shape=(49, 512, ), name='Image_Input') #Input shape\n",
        "x1 = tf.keras.layers.Flatten()(base_input1) \n",
        "base_output1= tf.keras.layers.Dense(1024,activation='relu')(x1)\n",
        "image_model=Model(inputs=base_input1,outputs=base_output1)\n",
        "image_model.summary()"
      ],
      "metadata": {
        "colab": {
          "base_uri": "https://localhost:8080/"
        },
        "id": "7tB1gZoZODDV",
        "outputId": "b6d994c5-ffa0-4a48-a5ca-57919942d089"
      },
      "execution_count": null,
      "outputs": [
        {
          "output_type": "stream",
          "name": "stdout",
          "text": [
            "Model: \"model\"\n",
            "_________________________________________________________________\n",
            " Layer (type)                Output Shape              Param #   \n",
            "=================================================================\n",
            " Image_Input (InputLayer)    [(None, 49, 512)]         0         \n",
            "                                                                 \n",
            " flatten (Flatten)           (None, 25088)             0         \n",
            "                                                                 \n",
            " dense (Dense)               (None, 1024)              25691136  \n",
            "                                                                 \n",
            "=================================================================\n",
            "Total params: 25,691,136\n",
            "Trainable params: 25,691,136\n",
            "Non-trainable params: 0\n",
            "_________________________________________________________________\n"
          ]
        }
      ]
    },
    {
      "cell_type": "code",
      "source": [
        "base_input2 = Input(shape=(22, ), name='Question_Input')\n",
        "embed2        = tf.keras.layers.Embedding(vocab_size, 200, input_length=max_seq_len)(base_input2)\n",
        "l1            = tf.compat.v1.keras.layers.CuDNNLSTM(128,kernel_initializer='he_normal',kernel_regularizer=tf.keras.regularizers.L1(0.001),return_sequences=True)(embed2)\n",
        "lstm22        = tf.compat.v1.keras.layers.CuDNNLSTM(256,kernel_initializer='he_normal',kernel_regularizer=tf.keras.regularizers.L1(0.001),return_sequences=True)(l1)\n",
        "flat1         = tf.keras.layers.Flatten()(lstm22)\n",
        "base_output2  = tf.keras.layers.Dense(1024,activation='relu',kernel_initializer='he_normal')(flat1)\n",
        "question_model = Model(inputs=base_input2, outputs=base_output2)\n",
        "question_model.summary()"
      ],
      "metadata": {
        "colab": {
          "base_uri": "https://localhost:8080/"
        },
        "id": "DMXrivJ4OIf9",
        "outputId": "eb3ce6f7-a963-4f7a-9f0b-ce6af44b8eda"
      },
      "execution_count": null,
      "outputs": [
        {
          "output_type": "stream",
          "name": "stdout",
          "text": [
            "Model: \"model_1\"\n",
            "_________________________________________________________________\n",
            " Layer (type)                Output Shape              Param #   \n",
            "=================================================================\n",
            " Question_Input (InputLayer)  [(None, 22)]             0         \n",
            "                                                                 \n",
            " embedding (Embedding)       (None, 22, 200)           2075600   \n",
            "                                                                 \n",
            " cu_dnnlstm (CuDNNLSTM)      (None, 22, 128)           168960    \n",
            "                                                                 \n",
            " cu_dnnlstm_1 (CuDNNLSTM)    (None, 22, 256)           395264    \n",
            "                                                                 \n",
            " flatten_1 (Flatten)         (None, 5632)              0         \n",
            "                                                                 \n",
            " dense_1 (Dense)             (None, 1024)              5768192   \n",
            "                                                                 \n",
            "=================================================================\n",
            "Total params: 8,408,016\n",
            "Trainable params: 8,408,016\n",
            "Non-trainable params: 0\n",
            "_________________________________________________________________\n"
          ]
        }
      ]
    },
    {
      "cell_type": "code",
      "source": [
        "combined_output   = tf.keras.layers.Multiply()([image_model.layers[-1].output,question_model.layers[-1].output])\n",
        "drop                = tf.keras.layers.Dropout(0.3)(combined_output)\n",
        "final_base_output = tf.keras.layers.Dense(512,activation='relu',kernel_initializer='he_normal')(drop)\n",
        "bn                = tf.keras.layers.BatchNormalization()(final_base_output) #to reduce overfitting\n",
        "final_output      = tf.keras.layers.Dense(2,activation='softmax')(bn) #to reduce overfitting\n",
        "final_model       = tf.keras.Model(inputs=[base_input1,base_input2],outputs=final_output)\n",
        "final_model.summary()"
      ],
      "metadata": {
        "colab": {
          "base_uri": "https://localhost:8080/"
        },
        "id": "2I-70wA0OKpt",
        "outputId": "72c8a120-0218-4840-b940-08b0d5dc6c97"
      },
      "execution_count": null,
      "outputs": [
        {
          "output_type": "stream",
          "name": "stdout",
          "text": [
            "Model: \"model_2\"\n",
            "__________________________________________________________________________________________________\n",
            " Layer (type)                   Output Shape         Param #     Connected to                     \n",
            "==================================================================================================\n",
            " Question_Input (InputLayer)    [(None, 22)]         0           []                               \n",
            "                                                                                                  \n",
            " embedding (Embedding)          (None, 22, 200)      2075600     ['Question_Input[0][0]']         \n",
            "                                                                                                  \n",
            " cu_dnnlstm (CuDNNLSTM)         (None, 22, 128)      168960      ['embedding[0][0]']              \n",
            "                                                                                                  \n",
            " Image_Input (InputLayer)       [(None, 49, 512)]    0           []                               \n",
            "                                                                                                  \n",
            " cu_dnnlstm_1 (CuDNNLSTM)       (None, 22, 256)      395264      ['cu_dnnlstm[0][0]']             \n",
            "                                                                                                  \n",
            " flatten (Flatten)              (None, 25088)        0           ['Image_Input[0][0]']            \n",
            "                                                                                                  \n",
            " flatten_1 (Flatten)            (None, 5632)         0           ['cu_dnnlstm_1[0][0]']           \n",
            "                                                                                                  \n",
            " dense (Dense)                  (None, 1024)         25691136    ['flatten[0][0]']                \n",
            "                                                                                                  \n",
            " dense_1 (Dense)                (None, 1024)         5768192     ['flatten_1[0][0]']              \n",
            "                                                                                                  \n",
            " multiply (Multiply)            (None, 1024)         0           ['dense[0][0]',                  \n",
            "                                                                  'dense_1[0][0]']                \n",
            "                                                                                                  \n",
            " dropout (Dropout)              (None, 1024)         0           ['multiply[0][0]']               \n",
            "                                                                                                  \n",
            " dense_2 (Dense)                (None, 512)          524800      ['dropout[0][0]']                \n",
            "                                                                                                  \n",
            " batch_normalization (BatchNorm  (None, 512)         2048        ['dense_2[0][0]']                \n",
            " alization)                                                                                       \n",
            "                                                                                                  \n",
            " dense_3 (Dense)                (None, 2)            1026        ['batch_normalization[0][0]']    \n",
            "                                                                                                  \n",
            "==================================================================================================\n",
            "Total params: 34,627,026\n",
            "Trainable params: 34,626,002\n",
            "Non-trainable params: 1,024\n",
            "__________________________________________________________________________________________________\n"
          ]
        }
      ]
    },
    {
      "cell_type": "code",
      "source": [
        "optimizer = tf.keras.optimizers.Adam()"
      ],
      "metadata": {
        "id": "AKD9v_EI14kj"
      },
      "execution_count": null,
      "outputs": []
    },
    {
      "cell_type": "code",
      "source": [
        "log_dir = os.path.join(\"logs\",'fits', datetime.datetime.now().strftime(\"%Y%m%d-%H%M%S\"))\n",
        "tensorboard = tf.keras.callbacks.TensorBoard(log_dir=log_dir,histogram_freq=1,write_graph=True)"
      ],
      "metadata": {
        "id": "lhUQgQSK2PmO"
      },
      "execution_count": null,
      "outputs": []
    },
    {
      "cell_type": "code",
      "source": [
        "checkpoint = tf.keras.callbacks.ModelCheckpoint(\"baseline_model.h5\",monitor=\"val_accuracy\",mode=\"max\",save_best_only = True,verbose=1)"
      ],
      "metadata": {
        "id": "RbXm7w-I3zTN"
      },
      "execution_count": null,
      "outputs": []
    },
    {
      "cell_type": "code",
      "source": [
        "earlystop = tf.keras.callbacks.EarlyStopping(monitor='val_accuracy', patience=2, verbose=1)"
      ],
      "metadata": {
        "id": "HKWawdtxbEdu"
      },
      "execution_count": null,
      "outputs": []
    },
    {
      "cell_type": "code",
      "source": [
        "final_model.compile(optimizer=optimizer,loss='categorical_crossentropy',metrics=['accuracy'])"
      ],
      "metadata": {
        "id": "c47q2pXh2RBd"
      },
      "execution_count": null,
      "outputs": []
    },
    {
      "cell_type": "code",
      "source": [
        "final_model.fit(train_dataset, epochs=10, verbose=1, validation_data=test_dataset, callbacks=[tensorboard,checkpoint,earlystop])"
      ],
      "metadata": {
        "colab": {
          "base_uri": "https://localhost:8080/"
        },
        "id": "p71hWc8S2xKY",
        "outputId": "7fcbe085-7f45-4422-c970-293254ec35ad"
      },
      "execution_count": null,
      "outputs": [
        {
          "output_type": "stream",
          "name": "stdout",
          "text": [
            "Epoch 1/10\n",
            "126/126 [==============================] - ETA: 0s - loss: 12.1888 - accuracy: 0.5174\n",
            "Epoch 1: val_accuracy improved from -inf to 0.52904, saving model to baseline_model.h5\n",
            "126/126 [==============================] - 97s 761ms/step - loss: 12.1888 - accuracy: 0.5174 - val_loss: 4.6658 - val_accuracy: 0.5290\n",
            "Epoch 2/10\n",
            "126/126 [==============================] - ETA: 0s - loss: 2.1029 - accuracy: 0.5458\n",
            "Epoch 2: val_accuracy improved from 0.52904 to 0.53804, saving model to baseline_model.h5\n",
            "126/126 [==============================] - 95s 753ms/step - loss: 2.1029 - accuracy: 0.5458 - val_loss: 0.8656 - val_accuracy: 0.5380\n",
            "Epoch 3/10\n",
            "126/126 [==============================] - ETA: 0s - loss: 0.7415 - accuracy: 0.5643\n",
            "Epoch 3: val_accuracy did not improve from 0.53804\n",
            "126/126 [==============================] - 94s 746ms/step - loss: 0.7415 - accuracy: 0.5643 - val_loss: 0.7285 - val_accuracy: 0.5366\n",
            "Epoch 4/10\n",
            "126/126 [==============================] - ETA: 0s - loss: 0.6970 - accuracy: 0.5867\n",
            "Epoch 4: val_accuracy did not improve from 0.53804\n",
            "126/126 [==============================] - 94s 746ms/step - loss: 0.6970 - accuracy: 0.5867 - val_loss: 0.7410 - val_accuracy: 0.5162\n",
            "Epoch 4: early stopping\n"
          ]
        },
        {
          "output_type": "execute_result",
          "data": {
            "text/plain": [
              "<keras.callbacks.History at 0x7fe0ec0c6580>"
            ]
          },
          "metadata": {},
          "execution_count": 234
        }
      ]
    },
    {
      "cell_type": "code",
      "source": [
        "%load_ext tensorboard\n",
        "%tensorboard --logdir logs/fits"
      ],
      "metadata": {
        "id": "ghEqeICeHpr-"
      },
      "execution_count": null,
      "outputs": []
    },
    {
      "cell_type": "markdown",
      "source": [
        "#BERT"
      ],
      "metadata": {
        "id": "gZy16-geEp5C"
      }
    },
    {
      "cell_type": "code",
      "source": [
        "tf.keras.backend.clear_session()"
      ],
      "metadata": {
        "id": "vRHWLBPCUMpx"
      },
      "execution_count": null,
      "outputs": []
    },
    {
      "cell_type": "code",
      "source": [
        "!pip install transformers"
      ],
      "metadata": {
        "id": "mn8g5iTWFEsq",
        "colab": {
          "base_uri": "https://localhost:8080/"
        },
        "outputId": "a4b1bfb9-30f8-437e-c962-a2843785c674"
      },
      "execution_count": null,
      "outputs": [
        {
          "output_type": "stream",
          "name": "stdout",
          "text": [
            "Looking in indexes: https://pypi.org/simple, https://us-python.pkg.dev/colab-wheels/public/simple/\n",
            "Collecting transformers\n",
            "  Downloading transformers-4.25.1-py3-none-any.whl (5.8 MB)\n",
            "\u001b[K     |████████████████████████████████| 5.8 MB 4.1 MB/s \n",
            "\u001b[?25hRequirement already satisfied: filelock in /usr/local/lib/python3.8/dist-packages (from transformers) (3.8.2)\n",
            "Collecting tokenizers!=0.11.3,<0.14,>=0.11.1\n",
            "  Downloading tokenizers-0.13.2-cp38-cp38-manylinux_2_17_x86_64.manylinux2014_x86_64.whl (7.6 MB)\n",
            "\u001b[K     |████████████████████████████████| 7.6 MB 64.1 MB/s \n",
            "\u001b[?25hRequirement already satisfied: regex!=2019.12.17 in /usr/local/lib/python3.8/dist-packages (from transformers) (2022.6.2)\n",
            "Requirement already satisfied: numpy>=1.17 in /usr/local/lib/python3.8/dist-packages (from transformers) (1.21.6)\n",
            "Requirement already satisfied: requests in /usr/local/lib/python3.8/dist-packages (from transformers) (2.23.0)\n",
            "Requirement already satisfied: tqdm>=4.27 in /usr/local/lib/python3.8/dist-packages (from transformers) (4.64.1)\n",
            "Requirement already satisfied: packaging>=20.0 in /usr/local/lib/python3.8/dist-packages (from transformers) (21.3)\n",
            "Requirement already satisfied: pyyaml>=5.1 in /usr/local/lib/python3.8/dist-packages (from transformers) (6.0)\n",
            "Collecting huggingface-hub<1.0,>=0.10.0\n",
            "  Downloading huggingface_hub-0.11.1-py3-none-any.whl (182 kB)\n",
            "\u001b[K     |████████████████████████████████| 182 kB 78.0 MB/s \n",
            "\u001b[?25hRequirement already satisfied: typing-extensions>=3.7.4.3 in /usr/local/lib/python3.8/dist-packages (from huggingface-hub<1.0,>=0.10.0->transformers) (4.4.0)\n",
            "Requirement already satisfied: pyparsing!=3.0.5,>=2.0.2 in /usr/local/lib/python3.8/dist-packages (from packaging>=20.0->transformers) (3.0.9)\n",
            "Requirement already satisfied: certifi>=2017.4.17 in /usr/local/lib/python3.8/dist-packages (from requests->transformers) (2022.12.7)\n",
            "Requirement already satisfied: chardet<4,>=3.0.2 in /usr/local/lib/python3.8/dist-packages (from requests->transformers) (3.0.4)\n",
            "Requirement already satisfied: idna<3,>=2.5 in /usr/local/lib/python3.8/dist-packages (from requests->transformers) (2.10)\n",
            "Requirement already satisfied: urllib3!=1.25.0,!=1.25.1,<1.26,>=1.21.1 in /usr/local/lib/python3.8/dist-packages (from requests->transformers) (1.24.3)\n",
            "Installing collected packages: tokenizers, huggingface-hub, transformers\n",
            "Successfully installed huggingface-hub-0.11.1 tokenizers-0.13.2 transformers-4.25.1\n"
          ]
        }
      ]
    },
    {
      "cell_type": "code",
      "source": [
        "from transformers import BertTokenizer, TFBertModel, BertConfig,TFDistilBertModel,DistilBertTokenizer,DistilBertConfig"
      ],
      "metadata": {
        "id": "CuieM1mTE8i8"
      },
      "execution_count": null,
      "outputs": []
    },
    {
      "cell_type": "code",
      "source": [
        "#distilert uncased model doesn't differentiate between capital and small letters i.e change in word case\n",
        "dbert_tokenizer = DistilBertTokenizer.from_pretrained('distilbert-base-uncased')\n",
        "dbert_model = TFDistilBertModel.from_pretrained('distilbert-base-uncased')"
      ],
      "metadata": {
        "id": "p1T_QGUlHxS1",
        "colab": {
          "base_uri": "https://localhost:8080/",
          "height": 252,
          "referenced_widgets": [
            "7ef64a932d33406b8f7d908e40c125ef",
            "2affd9a2b79048a592046ea7b636ff38",
            "4448b416de1e45ae9b844f2fef507047",
            "53c63df50cf74c879b54e5cd81ded5e0",
            "7395925a3ad6457f976b7c77167a9c2d",
            "04fd8ccd10cc466887fbf95aa6ff338d",
            "04b6c8e026ff47ac84808051c2d844d1",
            "d57fc9f8a02c41529e51d9bf78a49953",
            "e72abbb540414e0698c430261b801e81",
            "5792237100a143308679cb69f2b1f0c6",
            "9334a5e7a6f34bfc9819f8af83bff41a",
            "5fdaeb472b7c4976bf2806cd0e76e6cd",
            "4ed60616191c4bf9899c5bd2f85f1435",
            "f2cf84e6f6aa422585b8e41130442220",
            "4ef50e8181804a07a1c0ad9231ec7bd7",
            "cee2be1b2e9b4f34ab700adaf5e28d06",
            "4190f6a50d7041d29151c1cc0cda262d",
            "9d3b697f8b484f85a654bc96e9d0cf96",
            "6bb301a37ec44f44b5582ca4c5675e29",
            "4c8a6ae33b6446f2ab1b3ffad62e8306",
            "33970178c43343d2b44cba109d8ccc11",
            "3698d8936cae4f1997a78c5658d67e2a",
            "9d31b9395c0b4658a050349149082dc4",
            "0602bb3d8bb34f0aa75ecd62f15180b1",
            "6593c417aadf4245b96c008826ce1b21",
            "959d189a2eeb439c8be8455200c1eff4",
            "5bad9c9777174d27a1ccfd601e8683bf",
            "1db88dbd37de48a3851e1527c3562fb3",
            "bea8ee09c27d4fda8daa6c7bda704098",
            "dfd6ba4b1237452b85aa8f7324cd7e66",
            "0be70345bcec4b2c8e59e17c8008f4c4",
            "d1b9b909ffad4281ab533bd1ad326d15",
            "e4954ad261bf4eba8f0326dddcc79a77",
            "72ad8f68c0824dccb95a8d60c161458b",
            "898deeddbddc4b95ad321fc5940fec43",
            "25b200d028484557be97458604017fb3",
            "a2b013492a3e40d4af229765a6bb96bf",
            "962e0748468840d9aafa2a5bb090c902",
            "c34f96f7acbe47c3a478884357034e39",
            "90ed62afd3f940fdae8466baa03ff5fb",
            "9acf331273a644078d9056bc2f494339",
            "63a0396c02234432853825901edcb562",
            "d4a0106ea9f748adadae4c0e26e862e0",
            "f864b568c090438da50adfdda92e7659"
          ]
        },
        "outputId": "9bcca721-db82-4b6f-a71c-64c3fd204b0d"
      },
      "execution_count": null,
      "outputs": [
        {
          "output_type": "display_data",
          "data": {
            "text/plain": [
              "Downloading:   0%|          | 0.00/232k [00:00<?, ?B/s]"
            ],
            "application/vnd.jupyter.widget-view+json": {
              "version_major": 2,
              "version_minor": 0,
              "model_id": "7ef64a932d33406b8f7d908e40c125ef"
            }
          },
          "metadata": {}
        },
        {
          "output_type": "display_data",
          "data": {
            "text/plain": [
              "Downloading:   0%|          | 0.00/28.0 [00:00<?, ?B/s]"
            ],
            "application/vnd.jupyter.widget-view+json": {
              "version_major": 2,
              "version_minor": 0,
              "model_id": "5fdaeb472b7c4976bf2806cd0e76e6cd"
            }
          },
          "metadata": {}
        },
        {
          "output_type": "display_data",
          "data": {
            "text/plain": [
              "Downloading:   0%|          | 0.00/483 [00:00<?, ?B/s]"
            ],
            "application/vnd.jupyter.widget-view+json": {
              "version_major": 2,
              "version_minor": 0,
              "model_id": "9d31b9395c0b4658a050349149082dc4"
            }
          },
          "metadata": {}
        },
        {
          "output_type": "display_data",
          "data": {
            "text/plain": [
              "Downloading:   0%|          | 0.00/363M [00:00<?, ?B/s]"
            ],
            "application/vnd.jupyter.widget-view+json": {
              "version_major": 2,
              "version_minor": 0,
              "model_id": "72ad8f68c0824dccb95a8d60c161458b"
            }
          },
          "metadata": {}
        },
        {
          "output_type": "stream",
          "name": "stderr",
          "text": [
            "Some layers from the model checkpoint at distilbert-base-uncased were not used when initializing TFDistilBertModel: ['vocab_layer_norm', 'vocab_transform', 'activation_13', 'vocab_projector']\n",
            "- This IS expected if you are initializing TFDistilBertModel from the checkpoint of a model trained on another task or with another architecture (e.g. initializing a BertForSequenceClassification model from a BertForPreTraining model).\n",
            "- This IS NOT expected if you are initializing TFDistilBertModel from the checkpoint of a model that you expect to be exactly identical (initializing a BertForSequenceClassification model from a BertForSequenceClassification model).\n",
            "All the layers of TFDistilBertModel were initialized from the model checkpoint at distilbert-base-uncased.\n",
            "If your task is similar to the task the model of the checkpoint was trained on, you can already use TFDistilBertModel for predictions without further training.\n"
          ]
        }
      ]
    },
    {
      "cell_type": "markdown",
      "source": [
        "##Creating Dataset"
      ],
      "metadata": {
        "id": "O3TTt8wnrCVS"
      }
    },
    {
      "cell_type": "code",
      "source": [
        "with open('/content/drive/MyDrive/VQA/processed_files/dbert_tokenizer.pkl', 'rb') as f:\n",
        "    dbert_tokenizer = joblib.load(f)"
      ],
      "metadata": {
        "id": "RyTSjZt9gv07"
      },
      "execution_count": null,
      "outputs": []
    },
    {
      "cell_type": "code",
      "source": [
        "max_len=22\n",
        "sentences=questions_train_processed\n",
        "len(sentences)"
      ],
      "metadata": {
        "colab": {
          "base_uri": "https://localhost:8080/"
        },
        "id": "mFuXscLfJIMt",
        "outputId": "6f47f386-b7f1-4236-d9bb-23a5ad00c70f"
      },
      "execution_count": null,
      "outputs": [
        {
          "output_type": "execute_result",
          "data": {
            "text/plain": [
              "167494"
            ]
          },
          "metadata": {},
          "execution_count": 37
        }
      ]
    },
    {
      "cell_type": "code",
      "source": [
        "train_sentences=questions_train_processed\n",
        "test_sentences = questions_val_processed\n",
        "max_len = 22"
      ],
      "metadata": {
        "id": "R05i8-LOsDOu"
      },
      "execution_count": null,
      "outputs": []
    },
    {
      "cell_type": "code",
      "source": [
        "#words are encoded to max length with [CLS] and [SEP] and [PAD] tokens\n",
        "train_tokens, test_tokens=[],[]\n",
        "train_attention_masks,test_attention_masks=[],[]\n",
        "\n",
        "for sent in tqdm(train_sentences):\n",
        "    dbert_inps=dbert_tokenizer.encode_plus(sent,add_special_tokens = True,\\\n",
        "                                           max_length =max_len,pad_to_max_length = True,\\\n",
        "                                           return_attention_mask = True,truncation=True)\n",
        "    train_tokens.append(dbert_inps['input_ids'])\n",
        "    train_attention_masks.append(dbert_inps['attention_mask'])\n",
        "\n",
        "train_tokens=np.asarray(train_tokens)\n",
        "train_attention_masks=np.array(train_attention_masks)\n",
        "\n",
        "for sent in tqdm(test_sentences):\n",
        "    dbert_inps=dbert_tokenizer.encode_plus(sent,add_special_tokens = True,\\\n",
        "                                           max_length =max_len, pad_to_max_length = True,\\\n",
        "                                           return_attention_mask = True,truncation=True)\n",
        "    test_tokens.append(dbert_inps['input_ids'])\n",
        "    test_attention_masks.append(dbert_inps['attention_mask'])\n",
        "\n",
        "test_tokens=np.asarray(test_tokens)\n",
        "test_attention_masks=np.array(test_attention_masks)"
      ],
      "metadata": {
        "colab": {
          "base_uri": "https://localhost:8080/"
        },
        "id": "ZjjIMyFirE6C",
        "outputId": "94baf44e-d5fb-4800-cfe7-e866a0d73b73"
      },
      "execution_count": null,
      "outputs": [
        {
          "output_type": "stream",
          "name": "stderr",
          "text": [
            "100%|██████████| 167494/167494 [00:43<00:00, 3820.06it/s]\n",
            "100%|██████████| 80810/80810 [00:19<00:00, 4236.76it/s]\n"
          ]
        }
      ]
    },
    {
      "cell_type": "code",
      "source": [
        "with open('/content/drive/MyDrive/VQA/processed_files/dbert_tokenizer.pkl', 'wb') as f:\n",
        "    joblib.dump(dbert_tokenizer, f)"
      ],
      "metadata": {
        "id": "f2xYq9bI30Fl"
      },
      "execution_count": null,
      "outputs": []
    },
    {
      "cell_type": "code",
      "source": [
        "with open('/content/drive/MyDrive/VQA/processed_files/dbert_tokenizer.pkl', 'rb') as f:\n",
        "    dbert_tokenizer = joblib.load(f)    "
      ],
      "metadata": {
        "id": "SvdOLquI38lZ"
      },
      "execution_count": null,
      "outputs": []
    },
    {
      "cell_type": "code",
      "source": [
        "with open('/content/drive/MyDrive/VQA/processed_files/bert_tokens.pkl', mode='wb') as f:\n",
        "    pickle.dump((train_tokens, test_tokens), f)"
      ],
      "metadata": {
        "id": "qexV25ad1liG"
      },
      "execution_count": null,
      "outputs": []
    },
    {
      "cell_type": "code",
      "source": [
        "with open('/content/drive/MyDrive/VQA/processed_files/bert_tokens.pkl', mode='rb') as f:\n",
        "    train_tokens, test_tokens = pickle.load(f)"
      ],
      "metadata": {
        "id": "1A9kyU-Q1liH"
      },
      "execution_count": null,
      "outputs": []
    },
    {
      "cell_type": "code",
      "source": [
        "question_tr_tokens, question_vl_tokens = train_tokens[TRAIN_INDEX], train_tokens[VAL_INDEX]"
      ],
      "metadata": {
        "id": "_Oy6XspUASKu"
      },
      "execution_count": null,
      "outputs": []
    },
    {
      "cell_type": "code",
      "source": [
        "train_dataset = tf.data.Dataset.from_tensor_slices((image_list_tr, question_tr_tokens))\n",
        "\n",
        "# Use map to load the numpy files in parallel\n",
        "train_dataset = train_dataset.map(lambda item1, item2: tf.numpy_function(\n",
        "          map_func, [item1, item2], [tf.float32, tf.int64]),\n",
        "          num_parallel_calls=tf.data.experimental.AUTOTUNE)\n",
        "op_train_dataset = tf.data.Dataset.from_tensor_slices(answer_tr)\n",
        "train_dataset   = tf.data.Dataset.zip((train_dataset,op_train_dataset))\n",
        "train_dataset = train_dataset.batch(500)\n",
        "train_dataset = train_dataset.prefetch(buffer_size=tf.data.experimental.AUTOTUNE)"
      ],
      "metadata": {
        "id": "-Uw-DwdUuIx3"
      },
      "execution_count": null,
      "outputs": []
    },
    {
      "cell_type": "code",
      "source": [
        "test_dataset = tf.data.Dataset.from_tensor_slices((image_list_vl, question_vl_tokens))\n",
        "\n",
        "# Use map to load the numpy files in parallel\n",
        "test_dataset = test_dataset.map(lambda item1, item2: tf.numpy_function(\n",
        "          map_func, [item1, item2], [tf.float32, tf.int64]),\n",
        "          num_parallel_calls=tf.data.experimental.AUTOTUNE)\n",
        "op_test_dataset = tf.data.Dataset.from_tensor_slices(answer_vl)\n",
        "test_dataset=tf.data.Dataset.zip((test_dataset,op_test_dataset))\n",
        "test_dataset = test_dataset.batch(500)\n",
        "test_dataset = test_dataset.prefetch(buffer_size=tf.data.experimental.AUTOTUNE)"
      ],
      "metadata": {
        "id": "aV-esEBFuIx3"
      },
      "execution_count": null,
      "outputs": []
    },
    {
      "cell_type": "markdown",
      "source": [
        "##Model Architecture and Training"
      ],
      "metadata": {
        "id": "1UcZQEKtq5Vy"
      }
    },
    {
      "cell_type": "code",
      "source": [
        "for layer in dbert_model.layers:\n",
        "    layer.trainable = False"
      ],
      "metadata": {
        "id": "-rQm9DP8WdYv"
      },
      "execution_count": null,
      "outputs": []
    },
    {
      "cell_type": "code",
      "source": [
        "#Model architecture\n",
        "ques_input = tf.keras.layers.Input(shape = (22,), name='Question_Input',dtype=tf.int64)\n",
        "dbert_layer = dbert_model(ques_input)\n",
        "conv1D = tf.keras.layers.Conv1D(filters=5, kernel_size=10)(dbert_layer.last_hidden_state)      \n",
        "pooling = tf.keras.layers.MaxPooling1D(pool_size=3)(conv1D)\n",
        "flat1 = tf.keras.layers.Flatten()(pooling)\n",
        "base_output1  = tf.keras.layers.Dense(128,activation='relu',kernel_initializer='he_normal')(flat1)\n",
        "\n",
        "img_input  = tf.keras.layers.Input(shape=(49, 512, ), name='Image_Input')\n",
        "conv1D_2 = tf.keras.layers.Conv1D(filters=5, kernel_size=10)(img_input)      \n",
        "pooling2 = tf.keras.layers.MaxPooling1D(pool_size=3)(conv1D_2)\n",
        "flat2 = tf.keras.layers.Flatten()(pooling2)\n",
        "base_output2  = tf.keras.layers.Dense(128,activation='relu',kernel_initializer='he_normal')(flat2)\n",
        "\n",
        "combined_output   = tf.keras.layers.Multiply()([base_output2,base_output1])\n",
        "drop                = tf.keras.layers.Dropout(0.1)(combined_output)\n",
        "bn                = tf.keras.layers.BatchNormalization()(drop)\n",
        "final_base_output = tf.keras.layers.Dense(128,activation='relu',kernel_initializer='he_normal')(bn)\n",
        "final_output      = tf.keras.layers.Dense(2,activation='softmax')(final_base_output)\n",
        "model = tf.keras.Model(inputs=[img_input,ques_input], outputs=final_output)\n",
        "\n",
        "print(model.summary())"
      ],
      "metadata": {
        "colab": {
          "base_uri": "https://localhost:8080/"
        },
        "outputId": "eed89aaa-ad62-49ef-ce3a-24b6b60bb7a1",
        "id": "W6xP-8_Yyf4R"
      },
      "execution_count": null,
      "outputs": [
        {
          "output_type": "stream",
          "name": "stdout",
          "text": [
            "Model: \"model\"\n",
            "__________________________________________________________________________________________________\n",
            " Layer (type)                   Output Shape         Param #     Connected to                     \n",
            "==================================================================================================\n",
            " Question_Input (InputLayer)    [(None, 22)]         0           []                               \n",
            "                                                                                                  \n",
            " Image_Input (InputLayer)       [(None, 49, 512)]    0           []                               \n",
            "                                                                                                  \n",
            " tf_distil_bert_model (TFDistil  TFBaseModelOutput(l  66362880   ['Question_Input[0][0]']         \n",
            " BertModel)                     ast_hidden_state=(N                                               \n",
            "                                one, 22, 768),                                                    \n",
            "                                 hidden_states=None                                               \n",
            "                                , attentions=None)                                                \n",
            "                                                                                                  \n",
            " conv1d_1 (Conv1D)              (None, 40, 5)        25605       ['Image_Input[0][0]']            \n",
            "                                                                                                  \n",
            " conv1d (Conv1D)                (None, 13, 5)        38405       ['tf_distil_bert_model[0][0]']   \n",
            "                                                                                                  \n",
            " max_pooling1d_1 (MaxPooling1D)  (None, 13, 5)       0           ['conv1d_1[0][0]']               \n",
            "                                                                                                  \n",
            " max_pooling1d (MaxPooling1D)   (None, 4, 5)         0           ['conv1d[0][0]']                 \n",
            "                                                                                                  \n",
            " flatten_1 (Flatten)            (None, 65)           0           ['max_pooling1d_1[0][0]']        \n",
            "                                                                                                  \n",
            " flatten (Flatten)              (None, 20)           0           ['max_pooling1d[0][0]']          \n",
            "                                                                                                  \n",
            " dense_1 (Dense)                (None, 128)          8448        ['flatten_1[0][0]']              \n",
            "                                                                                                  \n",
            " dense (Dense)                  (None, 128)          2688        ['flatten[0][0]']                \n",
            "                                                                                                  \n",
            " multiply (Multiply)            (None, 128)          0           ['dense_1[0][0]',                \n",
            "                                                                  'dense[0][0]']                  \n",
            "                                                                                                  \n",
            " dropout_19 (Dropout)           (None, 128)          0           ['multiply[0][0]']               \n",
            "                                                                                                  \n",
            " batch_normalization (BatchNorm  (None, 128)         512         ['dropout_19[0][0]']             \n",
            " alization)                                                                                       \n",
            "                                                                                                  \n",
            " dense_2 (Dense)                (None, 128)          16512       ['batch_normalization[0][0]']    \n",
            "                                                                                                  \n",
            " dense_3 (Dense)                (None, 2)            258         ['dense_2[0][0]']                \n",
            "                                                                                                  \n",
            "==================================================================================================\n",
            "Total params: 66,455,308\n",
            "Trainable params: 92,172\n",
            "Non-trainable params: 66,363,136\n",
            "__________________________________________________________________________________________________\n",
            "None\n"
          ]
        }
      ]
    },
    {
      "cell_type": "code",
      "source": [
        "model.compile(optimizer=tf.keras.optimizers.Adam(learning_rate=0.0005), loss='categorical_crossentropy', metrics=['accuracy'])"
      ],
      "metadata": {
        "id": "hBNS_Ezu7ysD"
      },
      "execution_count": null,
      "outputs": []
    },
    {
      "cell_type": "code",
      "source": [
        "checkpoint = tf.keras.callbacks.ModelCheckpoint(\"bert_model1.h5\",\n",
        "                             monitor=\"val_accuracy\",\n",
        "                             mode=\"max\",\n",
        "                             save_best_only = True,\n",
        "                             verbose=1)\n",
        "\n",
        "%load_ext tensorboard\n",
        "import datetime\n",
        "!rm -rf ./logs/ \n",
        "log_dir=\"logs/fit/\" + datetime.datetime.now().strftime(\"%Y%m%d-%H%M%S\")\n",
        "tensorboard = tf.keras.callbacks.TensorBoard(log_dir=log_dir, histogram_freq=1, write_graph=True,write_grads=True)\n",
        "\n",
        "callbacks = [checkpoint,tensorboard]"
      ],
      "metadata": {
        "colab": {
          "base_uri": "https://localhost:8080/"
        },
        "outputId": "72ae4ded-65a2-4482-8d35-380d01fc386b",
        "id": "ljQkLmFa7ysE"
      },
      "execution_count": null,
      "outputs": [
        {
          "output_type": "stream",
          "name": "stderr",
          "text": [
            "WARNING:tensorflow:`write_grads` will be ignored in TensorFlow 2.0 for the `TensorBoard` Callback.\n"
          ]
        }
      ]
    },
    {
      "cell_type": "code",
      "source": [
        "model.fit(train_dataset, epochs=10, verbose=1,validation_data=test_dataset,callbacks=callbacks, batch_size=128)\n",
        "#if OOM error occurs, reduce batch size(reduced from 1000 to 500)"
      ],
      "metadata": {
        "colab": {
          "base_uri": "https://localhost:8080/"
        },
        "outputId": "761f5831-2858-46e9-a539-5b648036b833",
        "id": "v4C1H7jR7ysF"
      },
      "execution_count": null,
      "outputs": [
        {
          "output_type": "stream",
          "name": "stdout",
          "text": [
            "Epoch 1/10\n",
            "252/252 [==============================] - ETA: 0s - loss: 0.7283 - accuracy: 0.5136\n",
            "Epoch 1: val_accuracy improved from -inf to 0.52297, saving model to bert_model1.h5\n",
            "252/252 [==============================] - 245s 935ms/step - loss: 0.7283 - accuracy: 0.5136 - val_loss: 0.7170 - val_accuracy: 0.5230\n",
            "Epoch 2/10\n",
            "252/252 [==============================] - ETA: 0s - loss: 0.6977 - accuracy: 0.5287\n",
            "Epoch 2: val_accuracy improved from 0.52297 to 0.53157, saving model to bert_model1.h5\n",
            "252/252 [==============================] - 232s 918ms/step - loss: 0.6977 - accuracy: 0.5287 - val_loss: 0.7005 - val_accuracy: 0.5316\n",
            "Epoch 3/10\n",
            "252/252 [==============================] - ETA: 0s - loss: 0.6920 - accuracy: 0.5381\n",
            "Epoch 3: val_accuracy did not improve from 0.53157\n",
            "252/252 [==============================] - 227s 899ms/step - loss: 0.6920 - accuracy: 0.5381 - val_loss: 0.6986 - val_accuracy: 0.5316\n",
            "Epoch 4/10\n",
            "252/252 [==============================] - ETA: 0s - loss: 0.6908 - accuracy: 0.5404\n",
            "Epoch 4: val_accuracy improved from 0.53157 to 0.54060, saving model to bert_model1.h5\n",
            "252/252 [==============================] - 223s 883ms/step - loss: 0.6908 - accuracy: 0.5404 - val_loss: 0.6975 - val_accuracy: 0.5406\n",
            "Epoch 5/10\n",
            "252/252 [==============================] - ETA: 0s - loss: 0.6886 - accuracy: 0.5446\n",
            "Epoch 5: val_accuracy improved from 0.54060 to 0.54179, saving model to bert_model1.h5\n",
            "252/252 [==============================] - 229s 904ms/step - loss: 0.6886 - accuracy: 0.5446 - val_loss: 0.7072 - val_accuracy: 0.5418\n",
            "Epoch 6/10\n",
            "252/252 [==============================] - ETA: 0s - loss: 0.6860 - accuracy: 0.5496\n",
            "Epoch 6: val_accuracy improved from 0.54179 to 0.54210, saving model to bert_model1.h5\n",
            "252/252 [==============================] - 223s 883ms/step - loss: 0.6860 - accuracy: 0.5496 - val_loss: 0.6908 - val_accuracy: 0.5421\n",
            "Epoch 7/10\n",
            "252/252 [==============================] - ETA: 0s - loss: 0.6834 - accuracy: 0.5565\n",
            "Epoch 7: val_accuracy improved from 0.54210 to 0.55099, saving model to bert_model1.h5\n",
            "252/252 [==============================] - 225s 890ms/step - loss: 0.6834 - accuracy: 0.5565 - val_loss: 0.6875 - val_accuracy: 0.5510\n",
            "Epoch 8/10\n",
            "252/252 [==============================] - ETA: 0s - loss: 0.6801 - accuracy: 0.5649\n",
            "Epoch 8: val_accuracy did not improve from 0.55099\n",
            "252/252 [==============================] - 221s 872ms/step - loss: 0.6801 - accuracy: 0.5649 - val_loss: 0.6915 - val_accuracy: 0.5481\n",
            "Epoch 9/10\n",
            "252/252 [==============================] - ETA: 0s - loss: 0.6775 - accuracy: 0.5691\n",
            "Epoch 9: val_accuracy did not improve from 0.55099\n",
            "252/252 [==============================] - 229s 904ms/step - loss: 0.6775 - accuracy: 0.5691 - val_loss: 0.6925 - val_accuracy: 0.5507\n",
            "Epoch 10/10\n",
            "252/252 [==============================] - ETA: 0s - loss: 0.6763 - accuracy: 0.5728\n",
            "Epoch 10: val_accuracy did not improve from 0.55099\n",
            "252/252 [==============================] - 225s 890ms/step - loss: 0.6763 - accuracy: 0.5728 - val_loss: 0.6932 - val_accuracy: 0.5452\n"
          ]
        },
        {
          "output_type": "execute_result",
          "data": {
            "text/plain": [
              "<keras.callbacks.History at 0x7f23441d8f70>"
            ]
          },
          "metadata": {},
          "execution_count": 52
        }
      ]
    },
    {
      "cell_type": "code",
      "source": [
        "model.save('/content/drive/MyDrive/saved_model/trained_bert_model.h5')"
      ],
      "metadata": {
        "id": "m7N69WHyzmQh"
      },
      "execution_count": null,
      "outputs": []
    },
    {
      "cell_type": "code",
      "source": [
        "from tensorflow.keras.models import load_model\n",
        "custom_objects = {\"TFDistilBertModel\": TFDistilBertModel}\n",
        "bert_model = load_model('/content/drive/MyDrive/saved_model/trained_bert_model.h5',custom_objects=custom_objects)"
      ],
      "metadata": {
        "colab": {
          "base_uri": "https://localhost:8080/"
        },
        "id": "ZBHOL3q0zuaq",
        "outputId": "1a2d2882-fdca-4ab8-b499-438d83f187fd"
      },
      "execution_count": null,
      "outputs": [
        {
          "output_type": "stream",
          "name": "stderr",
          "text": [
            "WARNING:tensorflow:Error in loading the saved optimizer state. As a result, your model is starting with a freshly initialized optimizer.\n"
          ]
        }
      ]
    },
    {
      "cell_type": "code",
      "source": [
        "bert_model.compile(optimizer=tf.keras.optimizers.Adam(learning_rate=0.0005), loss='categorical_crossentropy', metrics=['accuracy'])"
      ],
      "metadata": {
        "id": "hVirs91c0BLx"
      },
      "execution_count": null,
      "outputs": []
    },
    {
      "cell_type": "code",
      "source": [
        "bert_model.optimizer.learning_rate"
      ],
      "metadata": {
        "colab": {
          "base_uri": "https://localhost:8080/"
        },
        "id": "XrCtOVdb0KFS",
        "outputId": "c4b977b6-6c18-4fe0-f6de-218f94ed3ece"
      },
      "execution_count": null,
      "outputs": [
        {
          "output_type": "execute_result",
          "data": {
            "text/plain": [
              "<tf.Variable 'learning_rate:0' shape=() dtype=float32, numpy=0.0005>"
            ]
          },
          "metadata": {},
          "execution_count": 75
        }
      ]
    },
    {
      "cell_type": "code",
      "source": [
        "%load_ext tensorboard\n",
        "%tensorboard --logdir logs/fit"
      ],
      "metadata": {
        "id": "BXS6sIcv2N7o"
      },
      "execution_count": null,
      "outputs": []
    },
    {
      "cell_type": "markdown",
      "source": [
        "#Evaluation"
      ],
      "metadata": {
        "id": "0ZWg96dbkgKB"
      }
    },
    {
      "cell_type": "code",
      "source": [
        "#Actual train and validation data is listed here\n",
        "df_train = pd.DataFrame(list(zip(questions_train, answer_train, images_train)),\\\n",
        "                  columns =['questions_train', 'answer_train','images_train'])"
      ],
      "metadata": {
        "id": "Ub41CJxKin1b"
      },
      "execution_count": null,
      "outputs": []
    },
    {
      "cell_type": "code",
      "source": [
        "df_test = pd.DataFrame(list(zip(questions_val, answer_val, images_val)),\\\n",
        "                  columns =['questions_val', 'answer_val','images_val'])"
      ],
      "metadata": {
        "id": "IWy7upo3jWDr"
      },
      "execution_count": null,
      "outputs": []
    },
    {
      "cell_type": "code",
      "source": [
        "def image_feature_extractor(image_file, model):\n",
        "  img = image.load_img(image_file, target_size=(224, 224))\n",
        "  img = image.img_to_array(img)\n",
        "  img = np.expand_dims(img, axis=0)\n",
        "  img = preprocess_input(img)\n",
        "  features = model.predict(img) # (BATCH_SIZE, 512, 7, 7)\n",
        "  features = tf.reshape(features, (features.shape[0], features.shape[1], -1))\n",
        "  features = tf.transpose(features, perm =[0,2,1])  # (BATCH_SIZE, 49, 512)\n",
        "  return features"
      ],
      "metadata": {
        "id": "IJXypDmxMsRE"
      },
      "execution_count": null,
      "outputs": []
    },
    {
      "cell_type": "code",
      "source": [
        "def predict_answers(img_feat, ques_feat, model, labelencoder):\n",
        "    preds = model([img_feat, ques_feat])\n",
        "    y_classes = tf.argmax(preds, axis=1, output_type=tf.int32)\n",
        "    y_predict = (labelencoder.inverse_transform(y_classes))\n",
        "    return y_predict"
      ],
      "metadata": {
        "id": "WxIy0KpwM38-"
      },
      "execution_count": null,
      "outputs": []
    },
    {
      "cell_type": "code",
      "source": [
        "vgg_model = VGG19(weights=\"imagenet\", include_top=False, input_tensor=Input(shape=(3, 224, 224)))"
      ],
      "metadata": {
        "id": "NH4hjQDAUpPb",
        "colab": {
          "base_uri": "https://localhost:8080/"
        },
        "outputId": "0ece4e7d-b9cc-4ac3-82f9-629fa3904a6a"
      },
      "execution_count": null,
      "outputs": [
        {
          "output_type": "stream",
          "name": "stdout",
          "text": [
            "Downloading data from https://storage.googleapis.com/tensorflow/keras-applications/vgg19/vgg19_weights_tf_dim_ordering_tf_kernels_notop.h5\n",
            "80134624/80134624 [==============================] - 4s 0us/step\n"
          ]
        }
      ]
    },
    {
      "cell_type": "markdown",
      "source": [
        "###Test Images"
      ],
      "metadata": {
        "id": "78lsAYEvk6iR"
      }
    },
    {
      "cell_type": "code",
      "source": [
        "sample_img = df_test['images_val'][5690]\n",
        "actual_answer = df_test['answer_val'][5690]\n",
        "question = df_test['questions_val'][5690]\n",
        "im = Image.open(sample_img)\n",
        "plt.imshow(im)\n",
        "plt.show()\n",
        "image_data = image_feature_extractor(sample_img,vgg_model)\n",
        "question_processed = pd.Series(question).apply(process_sentence)\n",
        "dbert_inps = dbert_tokenizer.encode_plus(question_processed[0],add_special_tokens = True,max_length =max_len,pad_to_max_length = True,return_attention_mask = True,truncation=True)\n",
        "test_token=np.asarray(dbert_inps['input_ids'])  \n",
        "y_predict = predict_answers(image_data, test_token, bert_model, labelencoder)\n",
        "print('Question         :',question)\n",
        "print('Expected answer  :',actual_answer)\n",
        "print('Predicted answer :',y_predict[0])"
      ],
      "metadata": {
        "colab": {
          "base_uri": "https://localhost:8080/",
          "height": 338
        },
        "id": "dUFyOWwSpno5",
        "outputId": "a6586f94-6153-4df2-8501-ca798072045c"
      },
      "execution_count": null,
      "outputs": [
        {
          "output_type": "display_data",
          "data": {
            "text/plain": [
              "<Figure size 432x288 with 1 Axes>"
            ],
            "image/png": "[encoded data removed]"
          },
          "metadata": {
            "needs_background": "light"
          }
        },
        {
          "output_type": "stream",
          "name": "stdout",
          "text": [
            "1/1 [==============================] - 0s 18ms/step\n",
            "Question         : Is there enough forks available?\n",
            "Expected answer  : no\n",
            "Predicted answer : no\n"
          ]
        }
      ]
    },
    {
      "cell_type": "code",
      "source": [
        "sample_img = df_test['images_val'][78345]\n",
        "actual_answer = df_test['answer_val'][78345]\n",
        "question = df_test['questions_val'][78345]\n",
        "im = Image.open(sample_img)\n",
        "plt.imshow(im)\n",
        "plt.show()\n",
        "image_data = image_feature_extractor(sample_img,vgg_model)\n",
        "question_processed = pd.Series(question).apply(process_sentence)\n",
        "dbert_inps = dbert_tokenizer.encode_plus(question_processed[0],add_special_tokens = True,max_length =max_len,pad_to_max_length = True,return_attention_mask = True,truncation=True)\n",
        "test_token=np.asarray(dbert_inps['input_ids'])  \n",
        "y_predict = predict_answers(image_data, test_token, bert_model, labelencoder)\n",
        "print('Question         :',question)\n",
        "print('Expected answer  :',actual_answer)\n",
        "print('Predicted answer :',y_predict[0])"
      ],
      "metadata": {
        "colab": {
          "base_uri": "https://localhost:8080/",
          "height": 338
        },
        "id": "b0aOhJd1pxoF",
        "outputId": "919b365f-f5e1-47c2-cf80-caa833f22abe"
      },
      "execution_count": null,
      "outputs": [
        {
          "output_type": "display_data",
          "data": {
            "text/plain": [
              "<Figure size 432x288 with 1 Axes>"
            ],
            "image/png": "[encoded data removed]"
          },
          "metadata": {
            "needs_background": "light"
          }
        },
        {
          "output_type": "stream",
          "name": "stdout",
          "text": [
            "1/1 [==============================] - 0s 19ms/step\n",
            "Question         : Is this bench old?\n",
            "Expected answer  : yes\n",
            "Predicted answer : yes\n"
          ]
        }
      ]
    },
    {
      "cell_type": "code",
      "source": [
        "sample_img = df_test['images_val'][56]\n",
        "actual_answer = df_test['answer_val'][56]\n",
        "question = df_test['questions_val'][56]\n",
        "im = Image.open(sample_img)\n",
        "plt.imshow(im)\n",
        "plt.show()\n",
        "image_data = image_feature_extractor(sample_img,vgg_model)\n",
        "question_processed = pd.Series(question).apply(process_sentence)\n",
        "dbert_inps = dbert_tokenizer.encode_plus(question_processed[0],add_special_tokens = True,max_length =max_len,pad_to_max_length = True,return_attention_mask = True,truncation=True)\n",
        "test_token=np.asarray(dbert_inps['input_ids'])  \n",
        "y_predict = predict_answers(image_data, test_token, bert_model, labelencoder)\n",
        "print('Question         :',question)\n",
        "print('Expected answer  :',actual_answer)\n",
        "print('Predicted answer :',y_predict[0])"
      ],
      "metadata": {
        "colab": {
          "base_uri": "https://localhost:8080/",
          "height": 338
        },
        "id": "c5jPVjN4qhn6",
        "outputId": "be06bfed-0af5-4a1c-9a4a-092ee099ef1f"
      },
      "execution_count": null,
      "outputs": [
        {
          "output_type": "display_data",
          "data": {
            "text/plain": [
              "<Figure size 432x288 with 1 Axes>"
            ],
            "image/png": "[encoded data removed]"
          },
          "metadata": {
            "needs_background": "light"
          }
        },
        {
          "output_type": "stream",
          "name": "stdout",
          "text": [
            "1/1 [==============================] - 0s 22ms/step\n",
            "Question         : Is this a beach scene?\n",
            "Expected answer  : no\n",
            "Predicted answer : yes\n"
          ]
        }
      ]
    }
  ]
}